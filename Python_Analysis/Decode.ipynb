{
  "cells": [
    {
      "cell_type": "code",
      "execution_count": 1,
      "id": "074fccc2",
      "metadata": {
        "colab": {
          "base_uri": "https://localhost:8080/"
        },
        "id": "074fccc2",
        "outputId": "86063177-376a-4890-9dee-c56953080df5"
      },
      "outputs": [
        {
          "output_type": "stream",
          "name": "stdout",
          "text": [
            "M7E_batch/decode_10ms.mat\n",
            "M117B_batch/decode_10ms.mat\n"
          ]
        }
      ],
      "source": [
        "import numpy as np\n",
        "from matplotlib import pyplot as plt\n",
        "from scipy import io\n",
        "import os\n",
        "import random\n",
        "from sklearn.discriminant_analysis import LinearDiscriminantAnalysis\n",
        "import pandas as pd\n",
        "\n",
        "#decode_dir = 'C:\\\\Users\\\\Ping\\\\Desktop\\\\Analysis_practice'\n",
        "decode_dir=''\n",
        "\n",
        "animalID = ['M7E', 'M117B']\n",
        "\n",
        "callhist_all = np.array([]).reshape(20,10,68,0)\n",
        "callhist_type_all = np.array([])\n",
        "\n",
        "for i in range(len(animalID)):\n",
        "    path = os.path.join(decode_dir, animalID[i]+'_batch','decode_10ms.mat')\n",
        "    print(path)\n",
        "    mat_dict = io.loadmat(path)\n",
        "    #callhist[i] = mat_dict['callhist']\n",
        "    callhist_all = np.append(callhist_all,mat_dict['callhist'],-1)\n",
        "    callhist_type_all = np.append(callhist_type_all, mat_dict['callhist_type'])\n"
      ]
    },
    {
      "cell_type": "code",
      "execution_count": 2,
      "id": "a55b08b2",
      "metadata": {
        "colab": {
          "base_uri": "https://localhost:8080/"
        },
        "id": "a55b08b2",
        "outputId": "e136c473-950f-4992-bfa8-9e14d6d895fb"
      },
      "outputs": [
        {
          "output_type": "execute_result",
          "data": {
            "text/plain": [
              "(20, 10, 68, 337)"
            ]
          },
          "metadata": {},
          "execution_count": 2
        }
      ],
      "source": [
        "callhist_all.shape"
      ]
    },
    {
      "cell_type": "code",
      "execution_count": 3,
      "id": "421b1d51",
      "metadata": {
        "colab": {
          "base_uri": "https://localhost:8080/"
        },
        "id": "421b1d51",
        "outputId": "7560218e-9496-4e2c-91d4-f542ad072755"
      },
      "outputs": [
        {
          "output_type": "execute_result",
          "data": {
            "text/plain": [
              "(337,)"
            ]
          },
          "metadata": {},
          "execution_count": 3
        }
      ],
      "source": [
        "callhist_type_all.shape"
      ]
    },
    {
      "cell_type": "code",
      "execution_count": 4,
      "id": "2d391faf",
      "metadata": {
        "id": "2d391faf"
      },
      "outputs": [],
      "source": [
        "# Loop for nsims - initially set to 1\n",
        "def sim_decode(callhist, nsims=1,nunits=1,LDA=True):\n",
        "\n",
        "    # Shuffle - select a random trial for each\n",
        "    # Leave out and train the rest\n",
        "    # Callhist dimensions are (stim, rep, time bin, unit)\n",
        "    \n",
        "    # Optionally don't calculate LDA to minimize computation time\n",
        "   \n",
        "    conf_lda = np.empty((callhist.shape[0],callhist.shape[0]))\n",
        "    conf_lda.fill(0)    # Test actual (row), test predicted (column)\n",
        "\n",
        "    conf_mcc = np.empty((callhist.shape[0],callhist.shape[0]))\n",
        "    conf_mcc.fill(0)    # Test actual (row), test predicted (column)\n",
        "\n",
        "    for sim in range(nsims):\n",
        "        rand_units = random.sample(range(callhist.shape[3]), nunits)  # without replacement\n",
        "        rand_rep = random.choices(range(callhist.shape[1]), k=nunits)  # with replacement\n",
        "\n",
        "        leftout =  np.empty((callhist.shape[0],1,callhist.shape[2],nunits))\n",
        "        leftout.fill(np.nan)\n",
        "        leftin = np.empty((callhist.shape[0],callhist.shape[1]-1,callhist.shape[2],nunits))\n",
        "        leftin.fill(np.nan)\n",
        "        leftout_y = np.empty((callhist.shape[0],nunits))\n",
        "        leftout_y.fill(np.nan)\n",
        "\n",
        "        for unit in range(nunits):\n",
        "            leftout[:,:,:,unit] = np.expand_dims(callhist[:,rand_rep[unit],:,rand_units[unit]],1)\n",
        "            leftin[:,:,:,unit] = np.delete(callhist[:,:,:,rand_units[unit]],rand_rep[unit],1)\n",
        "\n",
        "        temp = leftout[:,0,:,:]     # np.squeeze causes issues when collapsing across time \n",
        "        temp = np.moveaxis(temp,1,-1)   # Now time is last index, will move fastest in order C reshape (default)\n",
        "        temp = temp.reshape((callhist.shape[0],temp.shape[1]*temp.shape[2]), order='C')\n",
        "\n",
        "        temp2 = np.moveaxis(leftin,2,-1)\n",
        "        temp2 = temp2.reshape((temp2.shape[0],temp2.shape[1],temp2.shape[2]*temp2.shape[3]), order='C')\n",
        "        #print(temp2.shape)\n",
        "        X = temp2.reshape(-1,temp2.shape[-1], order='C')\n",
        "        #print('X:',X.shape)\n",
        "\n",
        "        y = np.tile(np.expand_dims(np.array(range(temp2.shape[0])),-1),(1,temp2.shape[1]))\n",
        "        y = y.reshape((y.shape[0]*y.shape[1]), order='C')\n",
        "        #print('\\ny:',y.shape)\n",
        "        #print(y)\n",
        "        #print(X[3,:])\n",
        "         \n",
        "        temp3 = np.moveaxis(leftout,2,-1)\n",
        "        temp3 = temp3.reshape((temp3.shape[0],temp3.shape[1],temp3.shape[2]*temp3.shape[3]), order='C')\n",
        "        X_leftout = temp3.reshape(-1,temp3.shape[-1], order='C')\n",
        "        #print('X_leftout:',X_leftout.shape)\n",
        "        \n",
        "        y_leftout = np.tile(np.expand_dims(np.array(range(temp3.shape[0])),-1),(1,temp3.shape[1]))\n",
        "        y_leftout = y_leftout.reshape((y_leftout.shape[0]*y_leftout.shape[1]), order='C')\n",
        "        #print('y_leftout:', y_leftout.shape)\n",
        "\n",
        "        if LDA:\n",
        "            model = LinearDiscriminantAnalysis(solver='eigen', shrinkage=0.01)\n",
        "            model.fit(X,y)\n",
        "            #print(X_leftout[1,:])\n",
        "\n",
        "            yhat = model.predict(X_leftout)\n",
        "            print('y_test_actual:', y_leftout)\n",
        "            print('y_test_predicted:',yhat)\n",
        "            for m in range(y_leftout.shape[0]):\n",
        "                conf_lda[m,yhat[m]]=conf_lda[m,yhat[m]]+1\n",
        "            #calc percent corr\n",
        "        \n",
        "        # Mean templates for max correlation\n",
        "        X2 = np.mean(temp2,1)\n",
        "        #print(X2[0,:])\n",
        "        #print(X_leftout[0,:])\n",
        "        #print(np.corrcoef(X_leftout[0,:],X2[0,:]))\n",
        "        \n",
        "        cor_mat = np.empty((temp3.shape[0],temp3.shape[0]))\n",
        "        yhat2 = np.empty(temp3.shape[0])\n",
        "        \n",
        "        for test in range(temp3.shape[0]): \n",
        "            for target in range(temp3.shape[0]):\n",
        "                cor_mat[test,target] = np.corrcoef(X_leftout[test,:],X2[target,:])[1,0]\n",
        "            maxinds = np.where(cor_mat[test,:]==np.amax(cor_mat[test,:]))\n",
        "            for k in maxinds:\n",
        "                conf_mcc[test,k] = conf_mcc[test,k]+1/len(maxinds)\n",
        "                # If tied, distribute equally\n",
        "        #print(cor_mat)\n",
        "        \n",
        "        #print(np.corrcoef(X_leftout[0,:],X2[0,:]))\n",
        "        #print(np.corrcoef(X_leftout[1,:],X2[1,:]))\n",
        "        #print(X_leftout[0,:])\n",
        "        #print(X2[0,:])\n",
        "\n",
        "    fig = plt.figure()\n",
        "    ax = fig.subplots(2,1)\n",
        "    ax[1].imshow(conf_mcc)\n",
        "    accu = np.trace(conf_mcc)/np.sum(conf_mcc)\n",
        "    conf = conf_mcc\n",
        "    print('Accu:', accu)\n",
        "    if LDA:\n",
        "        ax[0].imshow(conf_lda)\n",
        "        accu_lda = np.trace(conf_lda)/np.sum(conf_lda)\n",
        "        print('Accu LDA:', accu_lda)\n",
        "        accu = {'lda':accu_lda,'mcc':accu}\n",
        "        conf = {'lda':conf_lda,'mcc':conf_mcc}\n",
        "    \n",
        "    return accu, conf"
      ]
    },
    {
      "cell_type": "code",
      "execution_count": 5,
      "id": "226c5438",
      "metadata": {
        "colab": {
          "base_uri": "https://localhost:8080/",
          "height": 703
        },
        "id": "226c5438",
        "outputId": "3ccfa6b5-10a2-41a0-8524-d07bc60abde7"
      },
      "outputs": [
        {
          "output_type": "stream",
          "name": "stdout",
          "text": [
            "y_test_actual: [0 1]\n",
            "y_test_predicted: [0 1]\n",
            "y_test_actual: [0 1]\n",
            "y_test_predicted: [0 1]\n",
            "y_test_actual: [0 1]\n",
            "y_test_predicted: [0 1]\n",
            "y_test_actual: [0 1]\n",
            "y_test_predicted: [0 1]\n",
            "y_test_actual: [0 1]\n",
            "y_test_predicted: [0 1]\n",
            "y_test_actual: [0 1]\n",
            "y_test_predicted: [0 1]\n",
            "y_test_actual: [0 1]\n",
            "y_test_predicted: [0 1]\n",
            "y_test_actual: [0 1]\n",
            "y_test_predicted: [0 1]\n",
            "y_test_actual: [0 1]\n",
            "y_test_predicted: [0 1]\n",
            "y_test_actual: [0 1]\n",
            "y_test_predicted: [0 1]\n",
            "Accu: 1.0\n",
            "Accu LDA: 1.0\n"
          ]
        },
        {
          "output_type": "execute_result",
          "data": {
            "text/plain": [
              "({'lda': 1.0, 'mcc': 1.0}, {'lda': array([[10.,  0.],\n",
              "         [ 0., 10.]]), 'mcc': array([[10.,  0.],\n",
              "         [ 0., 10.]])})"
            ]
          },
          "metadata": {},
          "execution_count": 5
        },
        {
          "output_type": "display_data",
          "data": {
            "image/png": "[encoded data removed]",
            "text/plain": [
              "<Figure size 432x288 with 2 Axes>"
            ]
          },
          "metadata": {
            "needs_background": "light"
          }
        }
      ],
      "source": [
        "nsims = 10\n",
        "nunits = 3   # Number of units to subsample\n",
        "#nunits = callhist.shape[3]\n",
        "\n",
        "# Test data\n",
        "# 2 stims, 3 units, 3 reps\n",
        "callhist_test = np.empty((2,3,5,3))\n",
        "callhist_test[0,0,:,0] = [1,2,3,4,5]\n",
        "callhist_test[0,0,:,1] = [1,2.2,3,4,5.5]\n",
        "callhist_test[0,0,:,2] = [0.8,2,3,4.2,5]\n",
        "\n",
        "callhist_test[1,0,:,0] = np.flipud([1,2,3,4,5])\n",
        "callhist_test[1,0,:,1] = np.flipud([1,2.2,3,4,5.5])\n",
        "callhist_test[1,0,:,2] = np.flipud([0.8,2,3,4.2,5])\n",
        "\n",
        "callhist_test[0,1,:,0] = callhist_test[0,0,:,0]+1\n",
        "callhist_test[0,1,:,1] = callhist_test[0,0,:,1]+1.2    # If these are exactly 1, the cor_mat becomes artificially symmetric\n",
        "callhist_test[0,1,:,2] = callhist_test[0,0,:,2]+1.1\n",
        "\n",
        "callhist_test[1,1,:,0] = callhist_test[1,0,:,0]+1\n",
        "callhist_test[1,1,:,1] = callhist_test[1,0,:,1]+1\n",
        "callhist_test[1,1,:,2] = callhist_test[1,0,:,2]+1\n",
        "\n",
        "callhist_test[0,2,:,0] = callhist_test[0,0,:,0]-1\n",
        "callhist_test[0,2,:,1] = callhist_test[0,0,:,1]-1\n",
        "callhist_test[0,2,:,2] = callhist_test[0,0,:,2]-1\n",
        "\n",
        "callhist_test[1,2,:,0] = callhist_test[1,0,:,0]-1\n",
        "callhist_test[1,2,:,1] = callhist_test[1,0,:,1]-1\n",
        "callhist_test[1,2,:,2] = callhist_test[1,0,:,2]-1\n",
        "\n",
        "sim_decode(callhist_test,nsims,nunits)\n"
      ]
    },
    {
      "cell_type": "code",
      "execution_count": 6,
      "id": "25898fb8",
      "metadata": {
        "colab": {
          "base_uri": "https://localhost:8080/",
          "height": 1000
        },
        "id": "25898fb8",
        "outputId": "b8c7e8e1-dc95-4f50-edc5-0b66f360f898"
      },
      "outputs": [
        {
          "output_type": "stream",
          "name": "stdout",
          "text": [
            "(20, 10, 68, 54)\n",
            "y_test_actual: [ 0  1  2  3  4  5  6  7  8  9 10 11 12 13 14 15 16 17 18 19]\n",
            "y_test_predicted: [ 0  1  2  3  4  1  6  7  8  9 10 11 12 13 14 15 16  1 18 19]\n",
            "y_test_actual: [ 0  1  2  3  4  5  6  7  8  9 10 11 12 13 14 15 16 17 18 19]\n",
            "y_test_predicted: [ 0  1  2  3  4  5  6  7  8  9 10 11 12 13 14 15 16 17 18 19]\n",
            "y_test_actual: [ 0  1  2  3  4  5  6  7  8  9 10 11 12 13 14 15 16 17 18 19]\n",
            "y_test_predicted: [ 0  1  2  3  4  5  6  7  8  9 10 11 12 13 14 15 16 17 18 19]\n",
            "y_test_actual: [ 0  1  2  3  4  5  6  7  8  9 10 11 12 13 14 15 16 17 18 19]\n",
            "y_test_predicted: [ 0  1  2  3  4  5  6  7  8  9 10 11 12 13 14 15 16 17 18 19]\n",
            "y_test_actual: [ 0  1  2  3  4  5  6  7  8  9 10 11 12 13 14 15 16 17 18 19]\n",
            "y_test_predicted: [ 0  1  2  3  4  5  6  7  8  9 10 11 12 13 14 15 16 17 18 19]\n",
            "y_test_actual: [ 0  1  2  3  4  5  6  7  8  9 10 11 12 13 14 15 16 17 18 19]\n",
            "y_test_predicted: [ 0  1  2  3  4  5  6  7  8  9 10 11 12 13 14 15 16 17 18 19]\n",
            "y_test_actual: [ 0  1  2  3  4  5  6  7  8  9 10 11 12 13 14 15 16 17 18 19]\n",
            "y_test_predicted: [ 0  1  2  3  4  5  6  7  8  9 10  1 12 13 14 15 16 17 18 19]\n",
            "y_test_actual: [ 0  1  2  3  4  5  6  7  8  9 10 11 12 13 14 15 16 17 18 19]\n",
            "y_test_predicted: [ 1  1  2  3  4  5  6  7  8  9 10 11 12 13 14 15 16 17 18 19]\n",
            "y_test_actual: [ 0  1  2  3  4  5  6  7  8  9 10 11 12 13 14 15 16 17 18 19]\n",
            "y_test_predicted: [ 0  1  2  3  4  5  6  7  8  9 10 11 12 13 14 15 16 17 18 19]\n",
            "y_test_actual: [ 0  1  2  3  4  5  6  7  8  9 10 11 12 13 14 15 16 17 18 19]\n",
            "y_test_predicted: [ 0  1  2  3  4 11  6  7  8  9 10 11 12 13 14 15 16 17 18 19]\n",
            "y_test_actual: [ 0  1  2  3  4  5  6  7  8  9 10 11 12 13 14 15 16 17 18 19]\n",
            "y_test_predicted: [ 0  1  2  3  4  5  6  7  8  9 10 11 12 13 14 15 16 17 18 19]\n",
            "y_test_actual: [ 0  1  2  3  4  5  6  7  8  9 10 11 12 13 14 15 16 17 18 19]\n",
            "y_test_predicted: [ 0  1  2  3  4  5  6  7  8  9 10 11 12 13 14 15 16  1 18 19]\n",
            "y_test_actual: [ 0  1  2  3  4  5  6  7  8  9 10 11 12 13 14 15 16 17 18 19]\n",
            "y_test_predicted: [ 0  1  2  3  4  5  6  7  8  9 10 11 12 13 14 15 16 17 18 19]\n",
            "y_test_actual: [ 0  1  2  3  4  5  6  7  8  9 10 11 12 13 14 15 16 17 18 19]\n",
            "y_test_predicted: [ 0  1  2  3  4  5  6  7  8  9 10 11 12 13 14 15 16 17 18 19]\n",
            "y_test_actual: [ 0  1  2  3  4  5  6  7  8  9 10 11 12 13 14 15 16 17 18 19]\n",
            "y_test_predicted: [ 1  1  2  3  4  1  6  7  8  9 10 11 12 13 14 15 16 17 18 19]\n",
            "y_test_actual: [ 0  1  2  3  4  5  6  7  8  9 10 11 12 13 14 15 16 17 18 19]\n",
            "y_test_predicted: [ 0  1  2  3  4  5  6  7  8  9 10 11 12 13 14 15 16 17 18 19]\n",
            "y_test_actual: [ 0  1  2  3  4  5  6  7  8  9 10 11 12 13 14 15 16 17 18 19]\n",
            "y_test_predicted: [ 0  1  2  3  4  5  6  7  8  9 10 11 12 13 14 15 16 17 18 19]\n",
            "y_test_actual: [ 0  1  2  3  4  5  6  7  8  9 10 11 12 13 14 15 16 17 18 19]\n",
            "y_test_predicted: [ 0  1  2  3  4  5  6  7  8  9 10 11 12 13 14 15 16 17 18 19]\n",
            "y_test_actual: [ 0  1  2  3  4  5  6  7  8  9 10 11 12 13 14 15 16 17 18 19]\n",
            "y_test_predicted: [ 1  1  2  3  4  5  6  7  8  9 10  1 12 13 14 15 16 17 18 19]\n",
            "y_test_actual: [ 0  1  2  3  4  5  6  7  8  9 10 11 12 13 14 15 16 17 18 19]\n",
            "y_test_predicted: [ 0  1  2  3  4  5  6  7  8  9 10 11 12 13 14 15 16  1 18 19]\n",
            "Accu: 0.9825\n",
            "Accu LDA: 0.9725\n"
          ]
        },
        {
          "output_type": "display_data",
          "data": {
            "image/png": "[encoded data removed]",
            "text/plain": [
              "<Figure size 432x288 with 2 Axes>"
            ]
          },
          "metadata": {
            "needs_background": "light"
          }
        }
      ],
      "source": [
        "callhist_bu = callhist_all[:,:,:, (callhist_type_all == 'Burster_h') | (callhist_type_all == 'Burster_l')]\n",
        "\n",
        "print(callhist_bu.shape)    \n",
        "\n",
        "nsims = 20\n",
        "nunits = 54\n",
        "\n",
        "output = sim_decode(callhist_bu,nsims,nunits)\n",
        "    \n",
        "accu54_bu_mcc = output[0]['mcc']\n",
        "accu54_bu_lda = output[0]['lda']\n",
        "conf54_bu_mcc = output[1]['mcc']\n",
        "conf54_bu_lda = output[1]['lda']"
      ]
    },
    {
      "cell_type": "code",
      "execution_count": 7,
      "id": "80bbd115",
      "metadata": {
        "colab": {
          "base_uri": "https://localhost:8080/",
          "height": 1000
        },
        "id": "80bbd115",
        "outputId": "29f78a90-cc37-4600-f84b-175877257b67"
      },
      "outputs": [
        {
          "output_type": "stream",
          "name": "stdout",
          "text": [
            "(20, 10, 68, 110)\n",
            "y_test_actual: [ 0  1  2  3  4  5  6  7  8  9 10 11 12 13 14 15 16 17 18 19]\n",
            "y_test_predicted: [ 1  1  2  3  1 17 17 17  8  9 10 11 17 13 14 15 16  1 18 19]\n",
            "y_test_actual: [ 0  1  2  3  4  5  6  7  8  9 10 11 12 13 14 15 16 17 18 19]\n",
            "y_test_predicted: [ 5  1  2  9  4  1  6 17  8  9 10 11 11 13 14 15 16 17 18 19]\n",
            "y_test_actual: [ 0  1  2  3  4  5  6  7  8  9 10 11 12 13 14 15 16 17 18 19]\n",
            "y_test_predicted: [ 0  1  2  5  5  5  5  0  8  9  5  5  5 12  5 15  6  9 18 19]\n",
            "y_test_actual: [ 0  1  2  3  4  5  6  7  8  9 10 11 12 13 14 15 16 17 18 19]\n",
            "y_test_predicted: [ 0  1  3  5  4  5  7  8  8  9 10 11 12  5  4 15  6 17  3 19]\n",
            "y_test_actual: [ 0  1  2  3  4  5  6  7  8  9 10 11 12 13 14 15 16 17 18 19]\n",
            "y_test_predicted: [ 0  1  2  2  4  5  6  1  8  9 10  3  3  3 14 11 17 17 18  2]\n",
            "y_test_actual: [ 0  1  2  3  4  5  6  7  8  9 10 11 12 13 14 15 16 17 18 19]\n",
            "y_test_predicted: [ 0  1  2  3  4  5 16  7  8  9 10 11 12 13 14 15 16 17 18 19]\n",
            "y_test_actual: [ 0  1  2  3  4  5  6  7  8  9 10 11 12 13 14 15 16 17 18 19]\n",
            "y_test_predicted: [ 1  5  2  3  4  5  6  7  8  9 10  4 12 12 14 15  9  4 18 19]\n",
            "y_test_actual: [ 0  1  2  3  4  5  6  7  8  9 10 11 12 13 14 15 16 17 18 19]\n",
            "y_test_predicted: [ 0  1  2  3  4  5  6  7  8  9  0 11 12  5 14 15  5 17  5  5]\n",
            "y_test_actual: [ 0  1  2  3  4  5  6  7  8  9 10 11 12 13 14 15 16 17 18 19]\n",
            "y_test_predicted: [ 4  1  2  3  4  5  6  8  8  4 10 11 12 13 14 15 16 17 18 19]\n",
            "y_test_actual: [ 0  1  2  3  4  5  6  7  8  9 10 11 12 13 14 15 16 17 18 19]\n",
            "y_test_predicted: [ 0  1  2  3  0  5 16  0  8  5 10 13 12 13 14 15 16  0 18  5]\n",
            "y_test_actual: [ 0  1  2  3  4  5  6  7  8  9 10 11 12 13 14 15 16 17 18 19]\n",
            "y_test_predicted: [ 1  1  2  3  4  1  6  7  8  9  5 11 12  0 14 15  6  1  5  5]\n",
            "y_test_actual: [ 0  1  2  3  4  5  6  7  8  9 10 11 12 13 14 15 16 17 18 19]\n",
            "y_test_predicted: [ 5  1  1  1  1  5  1  1  1  4 10  5 12 13  1 15 16  1  1  5]\n",
            "y_test_actual: [ 0  1  2  3  4  5  6  7  8  9 10 11 12 13 14 15 16 17 18 19]\n",
            "y_test_predicted: [ 1  1  1  3  4  1  6  1  9  9 10  1  1  5 14 15  6  4  9 19]\n",
            "y_test_actual: [ 0  1  2  3  4  5  6  7  8  9 10 11 12 13 14 15 16 17 18 19]\n",
            "y_test_predicted: [ 5  1  2  3  5  5  7 16  8  5 10  5 13 13 14 15 16 17  5  5]\n",
            "y_test_actual: [ 0  1  2  3  4  5  6  7  8  9 10 11 12 13 14 15 16 17 18 19]\n",
            "y_test_predicted: [17  0  2  2  4  5  9  9  8 17 10 11 12 12 14 15 16 17  1 19]\n",
            "y_test_actual: [ 0  1  2  3  4  5  6  7  8  9 10 11 12 13 14 15 16 17 18 19]\n",
            "y_test_predicted: [ 1  1  2  1  4  1  6  7  8  9 10 11  1 13 14 15 16 17 18  1]\n",
            "y_test_actual: [ 0  1  2  3  4  5  6  7  8  9 10 11 12 13 14 15 16 17 18 19]\n",
            "y_test_predicted: [ 1  1  2  3  1  5  6  7  8  9 10 11 12 11 14 15  7 17 18  5]\n",
            "y_test_actual: [ 0  1  2  3  4  5  6  7  8  9 10 11 12 13 14 15 16 17 18 19]\n",
            "y_test_predicted: [ 0  1  2  3  4  5  6  7  8  9 10 17 12  9  9 15 16  4 18 19]\n",
            "y_test_actual: [ 0  1  2  3  4  5  6  7  8  9 10 11 12 13 14 15 16 17 18 19]\n",
            "y_test_predicted: [16  1  2  3  4  5 16  7  8  9  6 11 12 12 14 14 16 17 18 19]\n",
            "y_test_actual: [ 0  1  2  3  4  5  6  7  8  9 10 11 12 13 14 15 16 17 18 19]\n",
            "y_test_predicted: [ 1  1  3  3  4  8  6 16  8  9 10 11 12 13 14 15 16 17 18 19]\n",
            "Accu: 0.665\n",
            "Accu LDA: 0.6675\n"
          ]
        },
        {
          "output_type": "display_data",
          "data": {
            "image/png": "[encoded data removed]",
            "text/plain": [
              "<Figure size 432x288 with 2 Axes>"
            ]
          },
          "metadata": {
            "needs_background": "light"
          }
        }
      ],
      "source": [
        "callhist_RS = callhist_all[:,:,:, (callhist_type_all == 'RS')]\n",
        "\n",
        "print(callhist_RS.shape)    \n",
        "\n",
        "nsims = 20\n",
        "nunits = 54\n",
        "\n",
        "output = sim_decode(callhist_RS,nsims,nunits)\n",
        "\n",
        "accu54_RS_mcc = output[0]['mcc']\n",
        "accu54_RS_lda = output[0]['lda']\n",
        "conf54_RS_mcc = output[1]['mcc']\n",
        "conf54_RS_lda = output[1]['lda']"
      ]
    },
    {
      "cell_type": "code",
      "execution_count": 8,
      "id": "c3dddb0a",
      "metadata": {
        "colab": {
          "base_uri": "https://localhost:8080/",
          "height": 932
        },
        "id": "c3dddb0a",
        "outputId": "c5504c4b-47a5-4ac5-e13f-d288af2fa787"
      },
      "outputs": [
        {
          "output_type": "stream",
          "name": "stderr",
          "text": [
            "/usr/local/lib/python3.7/dist-packages/numpy/lib/function_base.py:2691: RuntimeWarning: invalid value encountered in true_divide\n",
            "  c /= stddev[:, None]\n",
            "/usr/local/lib/python3.7/dist-packages/numpy/lib/function_base.py:2692: RuntimeWarning: invalid value encountered in true_divide\n",
            "  c /= stddev[None, :]\n"
          ]
        },
        {
          "output_type": "stream",
          "name": "stdout",
          "text": [
            "Accu: 0.6512562814070352\n",
            "Accu: 0.903\n",
            "Accu: 0.987\n"
          ]
        },
        {
          "output_type": "execute_result",
          "data": {
            "text/plain": [
              "array([0.65125628, 0.903     , 0.987     ])"
            ]
          },
          "metadata": {},
          "execution_count": 8
        },
        {
          "output_type": "display_data",
          "data": {
            "image/png": "[encoded data removed]",
            "text/plain": [
              "<Figure size 432x288 with 2 Axes>"
            ]
          },
          "metadata": {
            "needs_background": "light"
          }
        },
        {
          "output_type": "display_data",
          "data": {
            "image/png": "[encoded data removed]",
            "text/plain": [
              "<Figure size 432x288 with 2 Axes>"
            ]
          },
          "metadata": {
            "needs_background": "light"
          }
        },
        {
          "output_type": "display_data",
          "data": {
            "image/png": "[encoded data removed]",
            "text/plain": [
              "<Figure size 432x288 with 2 Axes>"
            ]
          },
          "metadata": {
            "needs_background": "light"
          }
        }
      ],
      "source": [
        "callhist_bu = callhist_all[:,:,:, (callhist_type_all == 'Burster_h') | (callhist_type_all == 'Burster_l')]\n",
        "nsims = 50\n",
        "nunits_list = [10, 25, 54]\n",
        "\n",
        "accu_bu = np.empty(len(nunits_list))\n",
        "accu_bu.fill(np.nan)\n",
        "\n",
        "for i in range(len(nunits_list)):\n",
        "    output = sim_decode(callhist_bu,nsims,nunits_list[i],LDA=False)\n",
        "    accu_bu[i] = output[0]\n",
        "accu_bu"
      ]
    },
    {
      "cell_type": "code",
      "execution_count": 9,
      "id": "30cd7c17",
      "metadata": {
        "colab": {
          "base_uri": "https://localhost:8080/",
          "height": 1000
        },
        "id": "30cd7c17",
        "outputId": "2af7c15c-34bc-4734-d046-3979437ea377"
      },
      "outputs": [
        {
          "output_type": "stream",
          "name": "stdout",
          "text": [
            "Accu: 0.35\n",
            "Accu: 0.5\n",
            "Accu: 0.706\n",
            "Accu: 0.831\n"
          ]
        },
        {
          "output_type": "execute_result",
          "data": {
            "text/plain": [
              "array([0.35 , 0.5  , 0.706, 0.831])"
            ]
          },
          "metadata": {},
          "execution_count": 9
        },
        {
          "output_type": "display_data",
          "data": {
            "image/png": "[encoded data removed]",
            "text/plain": [
              "<Figure size 432x288 with 2 Axes>"
            ]
          },
          "metadata": {
            "needs_background": "light"
          }
        },
        {
          "output_type": "display_data",
          "data": {
            "image/png": "[encoded data removed]",
            "text/plain": [
              "<Figure size 432x288 with 2 Axes>"
            ]
          },
          "metadata": {
            "needs_background": "light"
          }
        },
        {
          "output_type": "display_data",
          "data": {
            "image/png": "[encoded data removed]",
            "text/plain": [
              "<Figure size 432x288 with 2 Axes>"
            ]
          },
          "metadata": {
            "needs_background": "light"
          }
        },
        {
          "output_type": "display_data",
          "data": {
            "image/png": "[encoded data removed]",
            "text/plain": [
              "<Figure size 432x288 with 2 Axes>"
            ]
          },
          "metadata": {
            "needs_background": "light"
          }
        }
      ],
      "source": [
        "nunits_list = [10, 25, 54, 110]\n",
        "\n",
        "accu_RS = np.empty(len(nunits_list))\n",
        "accu_RS.fill(np.nan)\n",
        "\n",
        "for i in range(len(nunits_list)):\n",
        "    output = sim_decode(callhist_RS,nsims,nunits_list[i],LDA=False)\n",
        "    accu_RS[i] = output[0]\n",
        "accu_RS"
      ]
    },
    {
      "cell_type": "code",
      "execution_count": 10,
      "id": "60196be1",
      "metadata": {
        "colab": {
          "base_uri": "https://localhost:8080/",
          "height": 1000
        },
        "id": "60196be1",
        "outputId": "a4828789-a717-4b00-d242-1eec6ad375a6"
      },
      "outputs": [
        {
          "output_type": "stream",
          "name": "stderr",
          "text": [
            "/usr/local/lib/python3.7/dist-packages/numpy/lib/function_base.py:2691: RuntimeWarning: invalid value encountered in true_divide\n",
            "  c /= stddev[:, None]\n",
            "/usr/local/lib/python3.7/dist-packages/numpy/lib/function_base.py:2692: RuntimeWarning: invalid value encountered in true_divide\n",
            "  c /= stddev[None, :]\n"
          ]
        },
        {
          "output_type": "stream",
          "name": "stdout",
          "text": [
            "Accu: 0.4694694694694695\n",
            "Accu: 0.692\n",
            "Accu: 0.85\n",
            "Accu: 0.973\n",
            "Accu: 0.994\n"
          ]
        },
        {
          "output_type": "execute_result",
          "data": {
            "text/plain": [
              "array([0.46946947, 0.692     , 0.85      , 0.973     , 0.994     ])"
            ]
          },
          "metadata": {},
          "execution_count": 10
        },
        {
          "output_type": "display_data",
          "data": {
            "image/png": "[encoded data removed]",
            "text/plain": [
              "<Figure size 432x288 with 2 Axes>"
            ]
          },
          "metadata": {
            "needs_background": "light"
          }
        },
        {
          "output_type": "display_data",
          "data": {
            "image/png": "[encoded data removed]",
            "text/plain": [
              "<Figure size 432x288 with 2 Axes>"
            ]
          },
          "metadata": {
            "needs_background": "light"
          }
        },
        {
          "output_type": "display_data",
          "data": {
            "image/png": "[encoded data removed]",
            "text/plain": [
              "<Figure size 432x288 with 2 Axes>"
            ]
          },
          "metadata": {
            "needs_background": "light"
          }
        },
        {
          "output_type": "display_data",
          "data": {
            "image/png": "[encoded data removed]",
            "text/plain": [
              "<Figure size 432x288 with 2 Axes>"
            ]
          },
          "metadata": {
            "needs_background": "light"
          }
        },
        {
          "output_type": "display_data",
          "data": {
            "image/png": "[encoded data removed]",
            "text/plain": [
              "<Figure size 432x288 with 2 Axes>"
            ]
          },
          "metadata": {
            "needs_background": "light"
          }
        }
      ],
      "source": [
        "callhist_mixed = callhist_all[:,:,:, (callhist_type_all=='Burster_h') | (callhist_type_all=='Burster_l') | (callhist_type_all=='RS')]\n",
        "\n",
        "nunits_list = [10, 25, 54, 110, 160]\n",
        "\n",
        "accu_mixed = np.empty(len(nunits_list))\n",
        "accu_mixed.fill(np.nan)\n",
        "\n",
        "for i in range(len(nunits_list)):\n",
        "    output = sim_decode(callhist_mixed,nsims,nunits_list[i],LDA=False)\n",
        "    accu_mixed[i] = output[0]\n",
        "accu_mixed"
      ]
    },
    {
      "cell_type": "code",
      "execution_count": 11,
      "id": "41254e21",
      "metadata": {
        "colab": {
          "base_uri": "https://localhost:8080/",
          "height": 932
        },
        "id": "41254e21",
        "outputId": "a707f1b5-b4fd-4166-a1d5-4b9ae3e6175e"
      },
      "outputs": [
        {
          "output_type": "stream",
          "name": "stderr",
          "text": [
            "/usr/local/lib/python3.7/dist-packages/numpy/lib/function_base.py:2691: RuntimeWarning: invalid value encountered in true_divide\n",
            "  c /= stddev[:, None]\n",
            "/usr/local/lib/python3.7/dist-packages/numpy/lib/function_base.py:2692: RuntimeWarning: invalid value encountered in true_divide\n",
            "  c /= stddev[None, :]\n"
          ]
        },
        {
          "output_type": "stream",
          "name": "stdout",
          "text": [
            "Accu: 0.1991991991991992\n",
            "Accu: 0.405\n",
            "Accu: 0.639\n"
          ]
        },
        {
          "output_type": "execute_result",
          "data": {
            "text/plain": [
              "array([0.1991992, 0.405    , 0.639    ])"
            ]
          },
          "metadata": {},
          "execution_count": 11
        },
        {
          "output_type": "display_data",
          "data": {
            "image/png": "[encoded data removed]",
            "text/plain": [
              "<Figure size 432x288 with 2 Axes>"
            ]
          },
          "metadata": {
            "needs_background": "light"
          }
        },
        {
          "output_type": "display_data",
          "data": {
            "image/png": "[encoded data removed]",
            "text/plain": [
              "<Figure size 432x288 with 2 Axes>"
            ]
          },
          "metadata": {
            "needs_background": "light"
          }
        },
        {
          "output_type": "display_data",
          "data": {
            "image/png": "[encoded data removed]",
            "text/plain": [
              "<Figure size 432x288 with 2 Axes>"
            ]
          },
          "metadata": {
            "needs_background": "light"
          }
        }
      ],
      "source": [
        "nsims = 50\n",
        "nunits_list = [10, 25, 54]\n",
        "\n",
        "accu_bu_t_collapse = np.empty(len(nunits_list))\n",
        "accu_bu_t_collapse.fill(np.nan)\n",
        "\n",
        "callhist_bu_t_collapse = np.expand_dims(np.mean(callhist_bu, 2),2)\n",
        "\n",
        "for i in range(len(nunits_list)):\n",
        "    output = sim_decode(callhist_bu_t_collapse,nsims,nunits_list[i],LDA=False)\n",
        "    accu_bu_t_collapse[i] = output[0]\n",
        "accu_bu_t_collapse"
      ]
    },
    {
      "cell_type": "code",
      "execution_count": 12,
      "id": "1081417f",
      "metadata": {
        "colab": {
          "base_uri": "https://localhost:8080/",
          "height": 1000
        },
        "id": "1081417f",
        "outputId": "a0fe9221-7666-4cf7-f45b-49de749b987c"
      },
      "outputs": [
        {
          "output_type": "stream",
          "name": "stderr",
          "text": [
            "/usr/local/lib/python3.7/dist-packages/numpy/lib/function_base.py:2691: RuntimeWarning: invalid value encountered in true_divide\n",
            "  c /= stddev[:, None]\n",
            "/usr/local/lib/python3.7/dist-packages/numpy/lib/function_base.py:2692: RuntimeWarning: invalid value encountered in true_divide\n",
            "  c /= stddev[None, :]\n"
          ]
        },
        {
          "output_type": "stream",
          "name": "stdout",
          "text": [
            "Accu: 0.19617706237424548\n",
            "Accu: 0.301\n",
            "Accu: 0.414\n",
            "Accu: 0.539\n"
          ]
        },
        {
          "output_type": "execute_result",
          "data": {
            "text/plain": [
              "array([0.19617706, 0.301     , 0.414     , 0.539     ])"
            ]
          },
          "metadata": {},
          "execution_count": 12
        },
        {
          "output_type": "display_data",
          "data": {
            "image/png": "[encoded data removed]",
            "text/plain": [
              "<Figure size 432x288 with 2 Axes>"
            ]
          },
          "metadata": {
            "needs_background": "light"
          }
        },
        {
          "output_type": "display_data",
          "data": {
            "image/png": "[encoded data removed]",
            "text/plain": [
              "<Figure size 432x288 with 2 Axes>"
            ]
          },
          "metadata": {
            "needs_background": "light"
          }
        },
        {
          "output_type": "display_data",
          "data": {
            "image/png": "[encoded data removed]",
            "text/plain": [
              "<Figure size 432x288 with 2 Axes>"
            ]
          },
          "metadata": {
            "needs_background": "light"
          }
        },
        {
          "output_type": "display_data",
          "data": {
            "image/png": "[encoded data removed]",
            "text/plain": [
              "<Figure size 432x288 with 2 Axes>"
            ]
          },
          "metadata": {
            "needs_background": "light"
          }
        }
      ],
      "source": [
        "nsims = 50\n",
        "nunits_list = [10, 25, 54, 110]\n",
        "\n",
        "accu_RS_t_collapse = np.empty(len(nunits_list))\n",
        "accu_RS_t_collapse.fill(np.nan)\n",
        "\n",
        "callhist_RS_t_collapse = np.expand_dims(np.mean(callhist_RS, 2),2)\n",
        "\n",
        "for i in range(len(nunits_list)):\n",
        "    output = sim_decode(callhist_RS_t_collapse,nsims,nunits_list[i],LDA=False)\n",
        "    accu_RS_t_collapse[i] = output[0]\n",
        "accu_RS_t_collapse"
      ]
    },
    {
      "cell_type": "code",
      "execution_count": 13,
      "id": "fab6b569",
      "metadata": {
        "colab": {
          "base_uri": "https://localhost:8080/",
          "height": 304
        },
        "id": "fab6b569",
        "outputId": "ec23da04-520b-40fc-a85d-3715673bb1a5"
      },
      "outputs": [
        {
          "output_type": "stream",
          "name": "stdout",
          "text": [
            "Accu: 0.817\n"
          ]
        },
        {
          "output_type": "execute_result",
          "data": {
            "text/plain": [
              "array([0.817])"
            ]
          },
          "metadata": {},
          "execution_count": 13
        },
        {
          "output_type": "display_data",
          "data": {
            "image/png": "[encoded data removed]",
            "text/plain": [
              "<Figure size 432x288 with 2 Axes>"
            ]
          },
          "metadata": {
            "needs_background": "light"
          }
        }
      ],
      "source": [
        "nsims = 50\n",
        "nunits_list = [1]\n",
        "\n",
        "accu_bu_unit_collapse = np.empty(len(nunits_list))\n",
        "accu_bu_unit_collapse.fill(np.nan)\n",
        "\n",
        "callhist_bu_unit_collapse = np.expand_dims(np.mean(callhist_bu, 3),3)\n",
        "\n",
        "for i in range(len(nunits_list)):\n",
        "    output = sim_decode(callhist_bu_unit_collapse,nsims,nunits_list[i],LDA=False)\n",
        "    accu_bu_unit_collapse[i] = output[0]\n",
        "accu_bu_unit_collapse"
      ]
    },
    {
      "cell_type": "code",
      "execution_count": 14,
      "id": "95aa994c",
      "metadata": {
        "colab": {
          "base_uri": "https://localhost:8080/",
          "height": 304
        },
        "id": "95aa994c",
        "outputId": "f56e14e1-f58e-40f6-87e4-d8d6fefedea2"
      },
      "outputs": [
        {
          "output_type": "stream",
          "name": "stdout",
          "text": [
            "Accu: 0.437\n"
          ]
        },
        {
          "output_type": "execute_result",
          "data": {
            "text/plain": [
              "array([0.437])"
            ]
          },
          "metadata": {},
          "execution_count": 14
        },
        {
          "output_type": "display_data",
          "data": {
            "image/png": "[encoded data removed]",
            "text/plain": [
              "<Figure size 432x288 with 2 Axes>"
            ]
          },
          "metadata": {
            "needs_background": "light"
          }
        }
      ],
      "source": [
        "nsims = 50\n",
        "nunits_list = [1]\n",
        "\n",
        "accu_RS_unit_collapse = np.empty(len(nunits_list))\n",
        "accu_RS_unit_collapse.fill(np.nan)\n",
        "\n",
        "callhist_RS_unit_collapse = np.expand_dims(np.mean(callhist_RS, 3),3)\n",
        "\n",
        "for i in range(len(nunits_list)):\n",
        "    output = sim_decode(callhist_RS_unit_collapse,nsims,nunits_list[i],LDA=False)\n",
        "    accu_RS_unit_collapse[i] = output[0]\n",
        "accu_RS_unit_collapse"
      ]
    },
    {
      "cell_type": "code",
      "execution_count": 15,
      "id": "1af0c8c0",
      "metadata": {
        "colab": {
          "base_uri": "https://localhost:8080/"
        },
        "id": "1af0c8c0",
        "outputId": "b7f85ab9-81a7-498d-a252-c5a73ecfb3a3"
      },
      "outputs": [
        {
          "output_type": "stream",
          "name": "stdout",
          "text": [
            "M7E_batch/decode_25ms.mat\n",
            "M117B_batch/decode_25ms.mat\n"
          ]
        }
      ],
      "source": [
        "# Binned by 25 ms instead of 10 ms (temporal degradation)\n",
        "callhist_all25ms = np.array([]).reshape(20,10,27,0)\n",
        "callhist_type_all25ms = np.array([])\n",
        "\n",
        "for i in range(len(animalID)):\n",
        "    path = os.path.join(decode_dir, animalID[i]+'_batch','decode_25ms.mat')\n",
        "    print(path)\n",
        "    mat_dict = io.loadmat(path)\n",
        "    #callhist[i] = mat_dict['callhist']\n",
        "    callhist_all25ms = np.append(callhist_all25ms,mat_dict['callhist'],-1)\n",
        "    callhist_type_all25ms = np.append(callhist_type_all25ms, mat_dict['callhist_type'])\n"
      ]
    },
    {
      "cell_type": "code",
      "execution_count": 16,
      "id": "4c5e4e8a",
      "metadata": {
        "colab": {
          "base_uri": "https://localhost:8080/",
          "height": 304
        },
        "id": "4c5e4e8a",
        "outputId": "22ed5930-e5e4-4c89-f6d8-c3d4b0b7f5db"
      },
      "outputs": [
        {
          "output_type": "stream",
          "name": "stdout",
          "text": [
            "Accu: 0.968\n"
          ]
        },
        {
          "output_type": "execute_result",
          "data": {
            "text/plain": [
              "array([0.968])"
            ]
          },
          "metadata": {},
          "execution_count": 16
        },
        {
          "output_type": "display_data",
          "data": {
            "image/png": "[encoded data removed]",
            "text/plain": [
              "<Figure size 432x288 with 2 Axes>"
            ]
          },
          "metadata": {
            "needs_background": "light"
          }
        }
      ],
      "source": [
        "callhist_bu25ms = callhist_all25ms[:,:,:, (callhist_type_all25ms == 'Burster_h') | (callhist_type_all25ms == 'Burster_l')]\n",
        "nsims = 50\n",
        "nunits_list = [54]\n",
        "\n",
        "accu_bu25ms = np.empty(len(nunits_list))\n",
        "accu_bu25ms.fill(np.nan)\n",
        "\n",
        "for i in range(len(nunits_list)):\n",
        "    output = sim_decode(callhist_bu25ms,nsims,nunits_list[i],LDA=False)\n",
        "    accu_bu25ms[i] = output[0]\n",
        "accu_bu25ms"
      ]
    },
    {
      "cell_type": "code",
      "execution_count": 17,
      "id": "874fbbb4",
      "metadata": {
        "colab": {
          "base_uri": "https://localhost:8080/",
          "height": 304
        },
        "id": "874fbbb4",
        "outputId": "571cd69c-d9f3-4093-8bc7-0585a7df2177"
      },
      "outputs": [
        {
          "output_type": "stream",
          "name": "stdout",
          "text": [
            "Accu: 0.718\n"
          ]
        },
        {
          "output_type": "execute_result",
          "data": {
            "text/plain": [
              "array([0.718])"
            ]
          },
          "metadata": {},
          "execution_count": 17
        },
        {
          "output_type": "display_data",
          "data": {
            "image/png": "[encoded data removed]",
            "text/plain": [
              "<Figure size 432x288 with 2 Axes>"
            ]
          },
          "metadata": {
            "needs_background": "light"
          }
        }
      ],
      "source": [
        "callhist_RS25ms = callhist_all25ms[:,:,:, (callhist_type_all25ms == 'RS')]\n",
        "\n",
        "accu_RS25ms = np.empty(len(nunits_list))\n",
        "accu_RS25ms.fill(np.nan)\n",
        "\n",
        "for i in range(len(nunits_list)):\n",
        "    output = sim_decode(callhist_RS25ms,nsims,nunits_list[i],LDA=False)\n",
        "    accu_RS25ms[i] = output[0]\n",
        "accu_RS25ms"
      ]
    },
    {
      "cell_type": "code",
      "execution_count": 18,
      "id": "3b18e0c3",
      "metadata": {
        "colab": {
          "base_uri": "https://localhost:8080/"
        },
        "id": "3b18e0c3",
        "outputId": "752866ad-0059-4843-8a34-70d0abb5f709"
      },
      "outputs": [
        {
          "output_type": "stream",
          "name": "stdout",
          "text": [
            "M7E_batch/decode_50ms.mat\n",
            "M117B_batch/decode_50ms.mat\n"
          ]
        }
      ],
      "source": [
        "# Binned by 50 ms instead of 10 ms (temporal degradation)\n",
        "callhist_all50ms = np.array([]).reshape(20,10,13,0)\n",
        "callhist_type_all50ms = np.array([])\n",
        "\n",
        "for i in range(len(animalID)):\n",
        "    path = os.path.join(decode_dir, animalID[i]+'_batch','decode_50ms.mat')\n",
        "    print(path)\n",
        "    mat_dict = io.loadmat(path)\n",
        "    #callhist[i] = mat_dict['callhist']\n",
        "    callhist_all50ms = np.append(callhist_all50ms,mat_dict['callhist'],-1)\n",
        "    callhist_type_all50ms = np.append(callhist_type_all50ms, mat_dict['callhist_type'])\n"
      ]
    },
    {
      "cell_type": "code",
      "execution_count": 19,
      "id": "d1f90f82",
      "metadata": {
        "colab": {
          "base_uri": "https://localhost:8080/",
          "height": 304
        },
        "id": "d1f90f82",
        "outputId": "9d7401b9-9f83-4006-983b-2aac52403b43"
      },
      "outputs": [
        {
          "output_type": "stream",
          "name": "stdout",
          "text": [
            "Accu: 0.959\n"
          ]
        },
        {
          "output_type": "execute_result",
          "data": {
            "text/plain": [
              "array([0.959])"
            ]
          },
          "metadata": {},
          "execution_count": 19
        },
        {
          "output_type": "display_data",
          "data": {
            "image/png": "[encoded data removed]",
            "text/plain": [
              "<Figure size 432x288 with 2 Axes>"
            ]
          },
          "metadata": {
            "needs_background": "light"
          }
        }
      ],
      "source": [
        "callhist_bu50ms = callhist_all50ms[:,:,:, (callhist_type_all50ms == 'Burster_h') | (callhist_type_all50ms == 'Burster_l')]\n",
        "nsims = 50\n",
        "nunits_list = [54]\n",
        "\n",
        "accu_bu50ms = np.empty(len(nunits_list))\n",
        "accu_bu50ms.fill(np.nan)\n",
        "\n",
        "for i in range(len(nunits_list)):\n",
        "    output = sim_decode(callhist_bu50ms,nsims,nunits_list[i],LDA=False)\n",
        "    accu_bu50ms[i] = output[0]\n",
        "accu_bu50ms"
      ]
    },
    {
      "cell_type": "code",
      "execution_count": 20,
      "id": "9f33cf8c",
      "metadata": {
        "colab": {
          "base_uri": "https://localhost:8080/",
          "height": 304
        },
        "id": "9f33cf8c",
        "outputId": "cd75dc49-af6c-40c2-85eb-b8df020194c8"
      },
      "outputs": [
        {
          "output_type": "stream",
          "name": "stdout",
          "text": [
            "Accu: 0.685\n"
          ]
        },
        {
          "output_type": "execute_result",
          "data": {
            "text/plain": [
              "array([0.685])"
            ]
          },
          "metadata": {},
          "execution_count": 20
        },
        {
          "output_type": "display_data",
          "data": {
            "image/png": "[encoded data removed]",
            "text/plain": [
              "<Figure size 432x288 with 2 Axes>"
            ]
          },
          "metadata": {
            "needs_background": "light"
          }
        }
      ],
      "source": [
        "callhist_RS50ms = callhist_all50ms[:,:,:, (callhist_type_all50ms == 'RS')]\n",
        "\n",
        "accu_RS50ms = np.empty(len(nunits_list))\n",
        "accu_RS50ms.fill(np.nan)\n",
        "\n",
        "for i in range(len(nunits_list)):\n",
        "    output = sim_decode(callhist_RS50ms,nsims,nunits_list[i],LDA=False)\n",
        "    accu_RS50ms[i] = output[0]\n",
        "accu_RS50ms"
      ]
    },
    {
      "cell_type": "code",
      "source": [
        "# Binned by 5 ms instead of 10 ms (temporal degradation)\n",
        "callhist_all5ms = np.array([]).reshape(20,10,136,0)\n",
        "callhist_type_all5ms = np.array([])\n",
        "\n",
        "for i in range(len(animalID)):\n",
        "    path = os.path.join(decode_dir, animalID[i]+'_batch','decode_5ms.mat')\n",
        "    print(path)\n",
        "    mat_dict = io.loadmat(path)\n",
        "    #callhist[i] = mat_dict['callhist']\n",
        "    callhist_all5ms = np.append(callhist_all5ms,mat_dict['callhist'],-1)\n",
        "    callhist_type_all5ms = np.append(callhist_type_all5ms, mat_dict['callhist_type'])\n"
      ],
      "metadata": {
        "colab": {
          "base_uri": "https://localhost:8080/"
        },
        "id": "-l7CG-wkYh1k",
        "outputId": "329e61ea-7106-470a-aa4c-099823d5154f"
      },
      "id": "-l7CG-wkYh1k",
      "execution_count": 22,
      "outputs": [
        {
          "output_type": "stream",
          "name": "stdout",
          "text": [
            "M7E_batch/decode_5ms.mat\n",
            "M117B_batch/decode_5ms.mat\n"
          ]
        }
      ]
    },
    {
      "cell_type": "code",
      "source": [
        "callhist_bu5ms = callhist_all5ms[:,:,:, (callhist_type_all5ms == 'Burster_h') | (callhist_type_all5ms == 'Burster_l')]\n",
        "nsims = 50\n",
        "nunits_list = [54]\n",
        "\n",
        "accu_bu5ms = np.empty(len(nunits_list))\n",
        "accu_bu5ms.fill(np.nan)\n",
        "\n",
        "for i in range(len(nunits_list)):\n",
        "    output = sim_decode(callhist_bu5ms,nsims,nunits_list[i],LDA=False)\n",
        "    accu_bu5ms[i] = output[0]\n",
        "accu_bu5ms"
      ],
      "metadata": {
        "colab": {
          "base_uri": "https://localhost:8080/",
          "height": 304
        },
        "id": "oQizp8K4YtUp",
        "outputId": "46680860-4a3e-4cd7-df3f-6a9d489eede3"
      },
      "id": "oQizp8K4YtUp",
      "execution_count": 23,
      "outputs": [
        {
          "output_type": "stream",
          "name": "stdout",
          "text": [
            "Accu: 0.981\n"
          ]
        },
        {
          "output_type": "execute_result",
          "data": {
            "text/plain": [
              "array([0.981])"
            ]
          },
          "metadata": {},
          "execution_count": 23
        },
        {
          "output_type": "display_data",
          "data": {
            "image/png": "[encoded data removed]",
            "text/plain": [
              "<Figure size 432x288 with 2 Axes>"
            ]
          },
          "metadata": {
            "needs_background": "light"
          }
        }
      ]
    },
    {
      "cell_type": "code",
      "source": [
        "callhist_RS5ms = callhist_all5ms[:,:,:, (callhist_type_all5ms == 'RS')]\n",
        "\n",
        "accu_RS5ms = np.empty(len(nunits_list))\n",
        "accu_RS5ms.fill(np.nan)\n",
        "\n",
        "for i in range(len(nunits_list)):\n",
        "    output = sim_decode(callhist_RS5ms,nsims,nunits_list[i],LDA=False)\n",
        "    accu_RS5ms[i] = output[0]\n",
        "accu_RS5ms"
      ],
      "metadata": {
        "colab": {
          "base_uri": "https://localhost:8080/",
          "height": 304
        },
        "id": "e3ud0o_MYwua",
        "outputId": "605a425c-34e2-47e6-b6e3-1066d4ecbea7"
      },
      "id": "e3ud0o_MYwua",
      "execution_count": 24,
      "outputs": [
        {
          "output_type": "stream",
          "name": "stdout",
          "text": [
            "Accu: 0.621\n"
          ]
        },
        {
          "output_type": "execute_result",
          "data": {
            "text/plain": [
              "array([0.621])"
            ]
          },
          "metadata": {},
          "execution_count": 24
        },
        {
          "output_type": "display_data",
          "data": {
            "image/png": "[encoded data removed]",
            "text/plain": [
              "<Figure size 432x288 with 2 Axes>"
            ]
          },
          "metadata": {
            "needs_background": "light"
          }
        }
      ]
    },
    {
      "cell_type": "code",
      "execution_count": 25,
      "id": "3adfaa30",
      "metadata": {
        "id": "3adfaa30"
      },
      "outputs": [],
      "source": [
        "path = os.path.join(decode_dir, 'decode_figdata.mat')\n",
        "mdic = {\"accu54_bu_mcc\": accu54_bu_mcc,\n",
        "        \"accu54_bu_lda\": accu54_bu_lda,\n",
        "        \"conf54_bu_mcc\": conf54_bu_mcc,\n",
        "        \"conf54_bu_lda\": conf54_bu_lda, \n",
        "        \"accu54_RS_mcc\": accu54_RS_mcc,\n",
        "        \"accu54_RS_lda\": accu54_RS_lda,\n",
        "        \"conf54_RS_mcc\": conf54_RS_mcc,\n",
        "        \"conf54_RS_lda\": conf54_RS_lda,\n",
        "        \"accu_bu\": accu_bu,\n",
        "        \"accu_RS\": accu_RS,\n",
        "        \"accu_mixed\": accu_mixed,\n",
        "        \"accu_bu_t_collapse\": accu_bu_t_collapse,\n",
        "        \"accu_RS_t_collapse\": accu_RS_t_collapse,\n",
        "        \"accu_bu_unit_collapse\": accu_bu_unit_collapse,\n",
        "        \"accu_RS_unit_collapse\": accu_RS_unit_collapse,\n",
        "        \"accu_bu25ms\": accu_bu25ms,\n",
        "        \"accu_RS25ms\": accu_RS25ms,\n",
        "        \"accu_bu50ms\": accu_bu50ms, \n",
        "        \"accu_RS50ms\": accu_RS50ms,\n",
        "        \"accu_bu5ms\": accu_bu5ms, \n",
        "        \"accu_RS5ms\": accu_RS5ms,   \n",
        "       }\n",
        "io.savemat(path,mdic)"
      ]
    },
    {
      "cell_type": "code",
      "execution_count": null,
      "id": "305eed9f",
      "metadata": {
        "id": "305eed9f"
      },
      "outputs": [],
      "source": [
        ""
      ]
    }
  ],
  "metadata": {
    "kernelspec": {
      "display_name": "Python 3 (ipykernel)",
      "language": "python",
      "name": "python3"
    },
    "language_info": {
      "codemirror_mode": {
        "name": "ipython",
        "version": 3
      },
      "file_extension": ".py",
      "mimetype": "text/x-python",
      "name": "python",
      "nbconvert_exporter": "python",
      "pygments_lexer": "ipython3",
      "version": "3.8.5"
    },
    "colab": {
      "name": "Decode.ipynb",
      "provenance": [],
      "collapsed_sections": []
    }
  },
  "nbformat": 4,
  "nbformat_minor": 5
}