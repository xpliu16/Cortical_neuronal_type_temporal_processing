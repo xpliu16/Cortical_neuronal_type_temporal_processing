{
 "cells": [
  {
   "cell_type": "code",
   "execution_count": 2,
   "metadata": {},
   "outputs": [
    {
     "data": {
      "text/plain": [
       "F_onewayResult(statistic=29.791828892133065, pvalue=1.4586902354694243e-15)"
      ]
     },
     "execution_count": 2,
     "metadata": {},
     "output_type": "execute_result"
    }
   ],
   "source": [
    "import numpy as np\n",
    "import pandas as pd\n",
    "import scipy.stats as stats\n",
    "import statsmodels.stats.multicomp as mc\n",
    "import matplotlib.pyplot as plt\n",
    "import pingouin as pg\n",
    "\n",
    "CI_df = pd.read_csv(r'C:\\Users\\Ping\\Documents\\MATLAB\\Xblaster3_Chamber3_GIT\\XPL_code\\Paper_code_and_spreadsheets\\CSV\\CImax.csv')\n",
    "CI_df.head\n",
    "CI_df.isnull().sum()\n",
    "CI_df2 = CI_df.loc[CI_df['CI'].notna(),:]\n",
    "\n",
    "CI_df.groupby(['Group_crit']).mean()\n",
    "\n",
    "stats.f_oneway(CI_df2['CI'][CI_df2['Group_crit']=='RS'],\n",
    "               CI_df2['CI'][CI_df2['Group_crit']=='FS'],\n",
    "               CI_df2['CI'][CI_df2['Group_crit']=='Burster_h'],\n",
    "               CI_df2['CI'][CI_df2['Group_crit']=='Burster_l'])\n",
    "\n",
    "# Result is same in MATLAB\n",
    "# But one-way ANOVA assumes that the data come from populations that are Gaussian and have equal variances"
   ]
  },
  {
   "cell_type": "code",
   "execution_count": 3,
   "metadata": {},
   "outputs": [
    {
     "data": {
      "text/html": [
       "<table class=\"simpletable\">\n",
       "<caption>Multiple Comparison of Means - Tukey HSD, FWER=0.05</caption>\n",
       "<tr>\n",
       "   <th>group1</th>    <th>group2</th>   <th>meandiff</th>  <th>p-adj</th>   <th>lower</th>    <th>upper</th>  <th>reject</th>\n",
       "</tr>\n",
       "<tr>\n",
       "  <td>Burster_h</td> <td>Burster_l</td> <td>-40.7034</td>  <td>0.001</td> <td>-57.2875</td> <td>-24.1194</td>  <td>True</td> \n",
       "</tr>\n",
       "<tr>\n",
       "  <td>Burster_h</td>    <td>FS</td>     <td>-53.9577</td>  <td>0.001</td> <td>-69.6087</td> <td>-38.3066</td>  <td>True</td> \n",
       "</tr>\n",
       "<tr>\n",
       "  <td>Burster_h</td>    <td>RS</td>     <td>-48.9697</td>  <td>0.001</td> <td>-63.4698</td> <td>-34.4696</td>  <td>True</td> \n",
       "</tr>\n",
       "<tr>\n",
       "  <td>Burster_l</td>    <td>FS</td>     <td>-13.2542</td> <td>0.0437</td> <td>-26.2497</td>  <td>-0.2587</td>  <td>True</td> \n",
       "</tr>\n",
       "<tr>\n",
       "  <td>Burster_l</td>    <td>RS</td>      <td>-8.2662</td> <td>0.2532</td> <td>-19.8499</td>  <td>3.3174</td>   <td>False</td>\n",
       "</tr>\n",
       "<tr>\n",
       "     <td>FS</td>        <td>RS</td>       <td>4.988</td>  <td>0.5745</td>  <td>-5.2152</td>  <td>15.1912</td>  <td>False</td>\n",
       "</tr>\n",
       "</table>"
      ],
      "text/plain": [
       "<class 'statsmodels.iolib.table.SimpleTable'>"
      ]
     },
     "execution_count": 3,
     "metadata": {},
     "output_type": "execute_result"
    }
   ],
   "source": [
    "CI_df3 = CI_df2[CI_df2['Group_crit'].isin(['RS','FS','Burster_h','Burster_l'])]\n",
    "comp = mc.MultiComparison(CI_df3.CI,CI_df3.Group_crit)\n",
    "post_hoc_res = comp.tukeyhsd()\n",
    "post_hoc_res.summary()"
   ]
  },
  {
   "cell_type": "code",
   "execution_count": 4,
   "metadata": {},
   "outputs": [
    {
     "data": {
      "text/html": [
       "<div>\n",
       "<style scoped>\n",
       "    .dataframe tbody tr th:only-of-type {\n",
       "        vertical-align: middle;\n",
       "    }\n",
       "\n",
       "    .dataframe tbody tr th {\n",
       "        vertical-align: top;\n",
       "    }\n",
       "\n",
       "    .dataframe thead th {\n",
       "        text-align: right;\n",
       "    }\n",
       "</style>\n",
       "<table border=\"1\" class=\"dataframe\">\n",
       "  <thead>\n",
       "    <tr style=\"text-align: right;\">\n",
       "      <th></th>\n",
       "      <th>CI</th>\n",
       "    </tr>\n",
       "    <tr>\n",
       "      <th>Group_crit</th>\n",
       "      <th></th>\n",
       "    </tr>\n",
       "  </thead>\n",
       "  <tbody>\n",
       "    <tr>\n",
       "      <th>Burster_h</th>\n",
       "      <td>57.650461</td>\n",
       "    </tr>\n",
       "    <tr>\n",
       "      <th>Burster_l</th>\n",
       "      <td>16.947021</td>\n",
       "    </tr>\n",
       "    <tr>\n",
       "      <th>FS</th>\n",
       "      <td>3.692802</td>\n",
       "    </tr>\n",
       "    <tr>\n",
       "      <th>Insufficient spikes</th>\n",
       "      <td>14.221948</td>\n",
       "    </tr>\n",
       "    <tr>\n",
       "      <th>Prestim burster1</th>\n",
       "      <td>42.741099</td>\n",
       "    </tr>\n",
       "    <tr>\n",
       "      <th>Prestim burster2</th>\n",
       "      <td>14.455750</td>\n",
       "    </tr>\n",
       "    <tr>\n",
       "      <th>RS</th>\n",
       "      <td>8.680793</td>\n",
       "    </tr>\n",
       "    <tr>\n",
       "      <th>Unclassified</th>\n",
       "      <td>7.954710</td>\n",
       "    </tr>\n",
       "  </tbody>\n",
       "</table>\n",
       "</div>"
      ],
      "text/plain": [
       "                            CI\n",
       "Group_crit                    \n",
       "Burster_h            57.650461\n",
       "Burster_l            16.947021\n",
       "FS                    3.692802\n",
       "Insufficient spikes  14.221948\n",
       "Prestim burster1     42.741099\n",
       "Prestim burster2     14.455750\n",
       "RS                    8.680793\n",
       "Unclassified          7.954710"
      ]
     },
     "execution_count": 4,
     "metadata": {},
     "output_type": "execute_result"
    }
   ],
   "source": [
    "CI_df.groupby(['Group_crit']).mean()"
   ]
  },
  {
   "cell_type": "code",
   "execution_count": 5,
   "metadata": {},
   "outputs": [
    {
     "data": {
      "text/plain": [
       "F_onewayResult(statistic=20.43868618040489, pvalue=1.8124282142678744e-11)"
      ]
     },
     "execution_count": 5,
     "metadata": {},
     "output_type": "execute_result"
    }
   ],
   "source": [
    "stats.f_oneway(CI_df2['CI'][CI_df2['Group_crit']=='RS'],\n",
    "               CI_df2['CI'][CI_df2['Group_crit']=='FS'],\n",
    "               CI_df2['CI'][CI_df2['Group_crit']=='Prestim burster1'],\n",
    "               CI_df2['CI'][CI_df2['Group_crit']=='Prestim burster2'])"
   ]
  },
  {
   "cell_type": "code",
   "execution_count": 6,
   "metadata": {},
   "outputs": [
    {
     "data": {
      "text/html": [
       "<table class=\"simpletable\">\n",
       "<caption>Multiple Comparison of Means - Tukey HSD, FWER=0.05</caption>\n",
       "<tr>\n",
       "       <th>group1</th>           <th>group2</th>      <th>meandiff</th>  <th>p-adj</th>   <th>lower</th>    <th>upper</th>  <th>reject</th>\n",
       "</tr>\n",
       "<tr>\n",
       "         <td>FS</td>        <td>Prestim burster1</td>  <td>39.0483</td>  <td>0.001</td>  <td>25.4498</td>  <td>52.6468</td>  <td>True</td> \n",
       "</tr>\n",
       "<tr>\n",
       "         <td>FS</td>        <td>Prestim burster2</td>  <td>10.7629</td> <td>0.0642</td>  <td>-0.4234</td>  <td>21.9493</td>  <td>False</td>\n",
       "</tr>\n",
       "<tr>\n",
       "         <td>FS</td>               <td>RS</td>          <td>4.988</td>  <td>0.5129</td>  <td>-4.3959</td>  <td>14.3719</td>  <td>False</td>\n",
       "</tr>\n",
       "<tr>\n",
       "  <td>Prestim burster1</td> <td>Prestim burster2</td> <td>-28.2853</td>  <td>0.001</td>  <td>-42.165</td> <td>-14.4057</td>  <td>True</td> \n",
       "</tr>\n",
       "<tr>\n",
       "  <td>Prestim burster1</td>        <td>RS</td>        <td>-34.0603</td>  <td>0.001</td>  <td>-46.533</td> <td>-21.5876</td>  <td>True</td> \n",
       "</tr>\n",
       "<tr>\n",
       "  <td>Prestim burster2</td>        <td>RS</td>         <td>-5.775</td>  <td>0.4231</td> <td>-15.5618</td>  <td>4.0119</td>   <td>False</td>\n",
       "</tr>\n",
       "</table>"
      ],
      "text/plain": [
       "<class 'statsmodels.iolib.table.SimpleTable'>"
      ]
     },
     "execution_count": 6,
     "metadata": {},
     "output_type": "execute_result"
    }
   ],
   "source": [
    "CI_df4 = CI_df2[CI_df2['Group_crit'].isin(['RS','FS','Prestim burster1','Prestim burster2'])]\n",
    "comp = mc.MultiComparison(CI_df4.CI,CI_df4.Group_crit)\n",
    "post_hoc_res = comp.tukeyhsd()\n",
    "post_hoc_res.summary()"
   ]
  },
  {
   "cell_type": "code",
   "execution_count": 7,
   "metadata": {},
   "outputs": [
    {
     "data": {
      "text/plain": [
       "20"
      ]
     },
     "execution_count": 7,
     "metadata": {},
     "output_type": "execute_result"
    }
   ],
   "source": [
    "len(CI_df2[CI_df2['Group_crit']=='Prestim burster1'])"
   ]
  },
  {
   "cell_type": "code",
   "execution_count": 8,
   "metadata": {},
   "outputs": [
    {
     "data": {
      "text/plain": [
       "38"
      ]
     },
     "execution_count": 8,
     "metadata": {},
     "output_type": "execute_result"
    }
   ],
   "source": [
    "len(CI_df2[CI_df2['Group_crit']=='Prestim burster2'])"
   ]
  },
  {
   "cell_type": "code",
   "execution_count": 9,
   "metadata": {},
   "outputs": [
    {
     "data": {
      "text/plain": [
       "F_onewayResult(statistic=27.36935565936908, pvalue=2.9158213222927206e-11)"
      ]
     },
     "execution_count": 9,
     "metadata": {},
     "output_type": "execute_result"
    }
   ],
   "source": [
    "stats.f_oneway(CI_df2['CI'][CI_df2['Group_gmm']=='RS'],\n",
    "               CI_df2['CI'][CI_df2['Group_gmm']=='FS'],\n",
    "               CI_df2['CI'][CI_df2['Group_gmm']=='Burster'])"
   ]
  },
  {
   "cell_type": "code",
   "execution_count": 10,
   "metadata": {},
   "outputs": [
    {
     "data": {
      "text/html": [
       "<table class=\"simpletable\">\n",
       "<caption>Multiple Comparison of Means - Tukey HSD, FWER=0.05</caption>\n",
       "<tr>\n",
       "  <th>group1</th>  <th>group2</th> <th>meandiff</th>  <th>p-adj</th>   <th>lower</th>    <th>upper</th>  <th>reject</th>\n",
       "</tr>\n",
       "<tr>\n",
       "  <td>Burster</td>   <td>FS</td>   <td>-28.0487</td>  <td>0.001</td> <td>-37.4511</td> <td>-18.6463</td>  <td>True</td> \n",
       "</tr>\n",
       "<tr>\n",
       "  <td>Burster</td>   <td>RS</td>   <td>-22.6019</td>  <td>0.001</td> <td>-31.5582</td> <td>-13.6456</td>  <td>True</td> \n",
       "</tr>\n",
       "<tr>\n",
       "    <td>FS</td>      <td>RS</td>    <td>5.4468</td>  <td>0.2766</td>  <td>-2.924</td>   <td>13.8176</td>  <td>False</td>\n",
       "</tr>\n",
       "</table>"
      ],
      "text/plain": [
       "<class 'statsmodels.iolib.table.SimpleTable'>"
      ]
     },
     "execution_count": 10,
     "metadata": {},
     "output_type": "execute_result"
    }
   ],
   "source": [
    "CI_df5 = CI_df2[CI_df2['Group_gmm'].isin(['RS','FS','Burster'])]\n",
    "comp = mc.MultiComparison(CI_df5.CI,CI_df5.Group_gmm)\n",
    "post_hoc_res = comp.tukeyhsd()\n",
    "post_hoc_res.summary()"
   ]
  },
  {
   "cell_type": "code",
   "execution_count": 11,
   "metadata": {},
   "outputs": [
    {
     "data": {
      "text/plain": [
       "array([[<AxesSubplot:title={'center':'Burster'}>,\n",
       "        <AxesSubplot:title={'center':'FS'}>],\n",
       "       [<AxesSubplot:title={'center':'Prestim burster'}>,\n",
       "        <AxesSubplot:title={'center':'RS'}>],\n",
       "       [<AxesSubplot:title={'center':'Unclassified'}>, <AxesSubplot:>]],\n",
       "      dtype=object)"
      ]
     },
     "execution_count": 11,
     "metadata": {},
     "output_type": "execute_result"
    },
    {
     "data": {
      "image/png": "[encoded data removed]",
      "text/plain": [
       "<Figure size 432x288 with 6 Axes>"
      ]
     },
     "metadata": {
      "needs_background": "light"
     },
     "output_type": "display_data"
    }
   ],
   "source": [
    "CI_df2['CI'].hist(by=CI_df2['Group_gmm'])"
   ]
  },
  {
   "cell_type": "code",
   "execution_count": 12,
   "metadata": {},
   "outputs": [
    {
     "data": {
      "text/plain": [
       "LeveneResult(statistic=11.428233211333628, pvalue=7.164959748586065e-07)"
      ]
     },
     "execution_count": 12,
     "metadata": {},
     "output_type": "execute_result"
    }
   ],
   "source": [
    "# Check for equality of variances\n",
    "# Bartlett test is sensitive to departures from normality\n",
    "stats.levene(CI_df2['CI'][CI_df2['Group_crit']=='RS'],\n",
    "               CI_df2['CI'][CI_df2['Group_crit']=='FS'],\n",
    "               CI_df2['CI'][CI_df2['Group_crit']=='Burster_h'],\n",
    "               CI_df2['CI'][CI_df2['Group_crit']=='Burster_l'], center='median')"
   ]
  },
  {
   "cell_type": "code",
   "execution_count": 13,
   "metadata": {},
   "outputs": [
    {
     "name": "stderr",
     "output_type": "stream",
     "text": [
      "C:\\Users\\Ping\\anaconda3\\lib\\site-packages\\pandas\\core\\indexing.py:1596: SettingWithCopyWarning: \n",
      "A value is trying to be set on a copy of a slice from a DataFrame.\n",
      "Try using .loc[row_indexer,col_indexer] = value instead\n",
      "\n",
      "See the caveats in the documentation: https://pandas.pydata.org/pandas-docs/stable/user_guide/indexing.html#returning-a-view-versus-a-copy\n",
      "  self.obj[key] = _infer_fill_value(value)\n",
      "C:\\Users\\Ping\\anaconda3\\lib\\site-packages\\pandas\\core\\indexing.py:1745: SettingWithCopyWarning: \n",
      "A value is trying to be set on a copy of a slice from a DataFrame.\n",
      "Try using .loc[row_indexer,col_indexer] = value instead\n",
      "\n",
      "See the caveats in the documentation: https://pandas.pydata.org/pandas-docs/stable/user_guide/indexing.html#returning-a-view-versus-a-copy\n",
      "  isetter(ilocs[0], value)\n"
     ]
    }
   ],
   "source": [
    "CI_df2.loc[:,'logCI'] = np.log2(CI_df2['CI'])"
   ]
  },
  {
   "cell_type": "code",
   "execution_count": 14,
   "metadata": {},
   "outputs": [
    {
     "data": {
      "text/plain": [
       "array([[<AxesSubplot:title={'center':'Burster'}>,\n",
       "        <AxesSubplot:title={'center':'FS'}>],\n",
       "       [<AxesSubplot:title={'center':'Prestim burster'}>,\n",
       "        <AxesSubplot:title={'center':'RS'}>],\n",
       "       [<AxesSubplot:title={'center':'Unclassified'}>, <AxesSubplot:>]],\n",
       "      dtype=object)"
      ]
     },
     "execution_count": 14,
     "metadata": {},
     "output_type": "execute_result"
    },
    {
     "data": {
      "image/png": "[encoded data removed]",
      "text/plain": [
       "<Figure size 432x288 with 6 Axes>"
      ]
     },
     "metadata": {
      "needs_background": "light"
     },
     "output_type": "display_data"
    }
   ],
   "source": [
    "CI_df2['logCI'].hist(by=CI_df2['Group_gmm'])"
   ]
  },
  {
   "cell_type": "code",
   "execution_count": 15,
   "metadata": {},
   "outputs": [
    {
     "data": {
      "text/plain": [
       "LeveneResult(statistic=6.758435813562414, pvalue=0.001437344549876343)"
      ]
     },
     "execution_count": 15,
     "metadata": {},
     "output_type": "execute_result"
    }
   ],
   "source": [
    "stats.levene(CI_df2['logCI'][CI_df2['Group_gmm']=='RS'],\n",
    "             CI_df2['logCI'][CI_df2['Group_gmm']=='FS'],\n",
    "             CI_df2['logCI'][CI_df2['Group_gmm']=='Burster'])\n",
    "# Even after log transforming, Levene's test fails, just by less"
   ]
  },
  {
   "cell_type": "code",
   "execution_count": 16,
   "metadata": {},
   "outputs": [
    {
     "data": {
      "text/html": [
       "<div>\n",
       "<style scoped>\n",
       "    .dataframe tbody tr th:only-of-type {\n",
       "        vertical-align: middle;\n",
       "    }\n",
       "\n",
       "    .dataframe tbody tr th {\n",
       "        vertical-align: top;\n",
       "    }\n",
       "\n",
       "    .dataframe thead th {\n",
       "        text-align: right;\n",
       "    }\n",
       "</style>\n",
       "<table border=\"1\" class=\"dataframe\">\n",
       "  <thead>\n",
       "    <tr style=\"text-align: right;\">\n",
       "      <th></th>\n",
       "      <th>Group_crit</th>\n",
       "      <th>CI</th>\n",
       "      <th>logCI</th>\n",
       "    </tr>\n",
       "    <tr>\n",
       "      <th>Group_gmm</th>\n",
       "      <th></th>\n",
       "      <th></th>\n",
       "      <th></th>\n",
       "    </tr>\n",
       "  </thead>\n",
       "  <tbody>\n",
       "    <tr>\n",
       "      <th>Burster</th>\n",
       "      <td>54</td>\n",
       "      <td>54</td>\n",
       "      <td>54</td>\n",
       "    </tr>\n",
       "    <tr>\n",
       "      <th>FS</th>\n",
       "      <td>68</td>\n",
       "      <td>68</td>\n",
       "      <td>68</td>\n",
       "    </tr>\n",
       "    <tr>\n",
       "      <th>Prestim burster</th>\n",
       "      <td>58</td>\n",
       "      <td>58</td>\n",
       "      <td>58</td>\n",
       "    </tr>\n",
       "    <tr>\n",
       "      <th>RS</th>\n",
       "      <td>86</td>\n",
       "      <td>86</td>\n",
       "      <td>86</td>\n",
       "    </tr>\n",
       "    <tr>\n",
       "      <th>Unclassified</th>\n",
       "      <td>69</td>\n",
       "      <td>69</td>\n",
       "      <td>69</td>\n",
       "    </tr>\n",
       "  </tbody>\n",
       "</table>\n",
       "</div>"
      ],
      "text/plain": [
       "                 Group_crit  CI  logCI\n",
       "Group_gmm                             \n",
       "Burster                  54  54     54\n",
       "FS                       68  68     68\n",
       "Prestim burster          58  58     58\n",
       "RS                       86  86     86\n",
       "Unclassified             69  69     69"
      ]
     },
     "execution_count": 16,
     "metadata": {},
     "output_type": "execute_result"
    }
   ],
   "source": [
    "CI_df2.groupby('Group_gmm').count()"
   ]
  },
  {
   "cell_type": "code",
   "execution_count": 104,
   "metadata": {},
   "outputs": [
    {
     "data": {
      "text/plain": [
       "1.5925925925925926"
      ]
     },
     "execution_count": 104,
     "metadata": {},
     "output_type": "execute_result"
    }
   ],
   "source": [
    "86/54\n",
    "# ANOVA is Analysis of variance is reasonably robust to violations of this assumption, provided the size of your groups is reasonably similar (e.g. largest/smallest = 1.5; Stevens 1996, p. 249)\"\n",
    "# Is the failure after log transforming due to the Burster population containing two subpopulations?\n",
    "# Try again on groups from Criteria"
   ]
  },
  {
   "cell_type": "code",
   "execution_count": 17,
   "metadata": {},
   "outputs": [
    {
     "data": {
      "text/plain": [
       "LeveneResult(statistic=2.899685952066238, pvalue=0.03655549218337195)"
      ]
     },
     "execution_count": 17,
     "metadata": {},
     "output_type": "execute_result"
    }
   ],
   "source": [
    "stats.levene(CI_df2['logCI'][CI_df2['Group_crit']=='RS'],\n",
    "             CI_df2['logCI'][CI_df2['Group_crit']=='FS'],\n",
    "             CI_df2['logCI'][CI_df2['Group_crit']=='Burster_h'],\n",
    "             CI_df2['logCI'][CI_df2['Group_crit']=='Burster_l'])\n",
    "# Closer to homoscedastic but still not!"
   ]
  },
  {
   "cell_type": "code",
   "execution_count": 6,
   "metadata": {},
   "outputs": [
    {
     "ename": "KeyError",
     "evalue": "'logCI'",
     "output_type": "error",
     "traceback": [
      "\u001b[1;31m---------------------------------------------------------------------------\u001b[0m",
      "\u001b[1;31mKeyError\u001b[0m                                  Traceback (most recent call last)",
      "\u001b[1;32m~\\anaconda3\\lib\\site-packages\\pandas\\core\\indexes\\base.py\u001b[0m in \u001b[0;36mget_loc\u001b[1;34m(self, key, method, tolerance)\u001b[0m\n\u001b[0;32m   2894\u001b[0m             \u001b[1;32mtry\u001b[0m\u001b[1;33m:\u001b[0m\u001b[1;33m\u001b[0m\u001b[1;33m\u001b[0m\u001b[0m\n\u001b[1;32m-> 2895\u001b[1;33m                 \u001b[1;32mreturn\u001b[0m \u001b[0mself\u001b[0m\u001b[1;33m.\u001b[0m\u001b[0m_engine\u001b[0m\u001b[1;33m.\u001b[0m\u001b[0mget_loc\u001b[0m\u001b[1;33m(\u001b[0m\u001b[0mcasted_key\u001b[0m\u001b[1;33m)\u001b[0m\u001b[1;33m\u001b[0m\u001b[1;33m\u001b[0m\u001b[0m\n\u001b[0m\u001b[0;32m   2896\u001b[0m             \u001b[1;32mexcept\u001b[0m \u001b[0mKeyError\u001b[0m \u001b[1;32mas\u001b[0m \u001b[0merr\u001b[0m\u001b[1;33m:\u001b[0m\u001b[1;33m\u001b[0m\u001b[1;33m\u001b[0m\u001b[0m\n",
      "\u001b[1;32mpandas\\_libs\\index.pyx\u001b[0m in \u001b[0;36mpandas._libs.index.IndexEngine.get_loc\u001b[1;34m()\u001b[0m\n",
      "\u001b[1;32mpandas\\_libs\\index.pyx\u001b[0m in \u001b[0;36mpandas._libs.index.IndexEngine.get_loc\u001b[1;34m()\u001b[0m\n",
      "\u001b[1;32mpandas\\_libs\\hashtable_class_helper.pxi\u001b[0m in \u001b[0;36mpandas._libs.hashtable.PyObjectHashTable.get_item\u001b[1;34m()\u001b[0m\n",
      "\u001b[1;32mpandas\\_libs\\hashtable_class_helper.pxi\u001b[0m in \u001b[0;36mpandas._libs.hashtable.PyObjectHashTable.get_item\u001b[1;34m()\u001b[0m\n",
      "\u001b[1;31mKeyError\u001b[0m: 'logCI'",
      "\nThe above exception was the direct cause of the following exception:\n",
      "\u001b[1;31mKeyError\u001b[0m                                  Traceback (most recent call last)",
      "\u001b[1;32m<ipython-input-6-b2715a99670c>\u001b[0m in \u001b[0;36m<module>\u001b[1;34m\u001b[0m\n\u001b[0;32m      1\u001b[0m \u001b[1;31m# Rerun ANOVA on log(CI)\u001b[0m\u001b[1;33m\u001b[0m\u001b[1;33m\u001b[0m\u001b[1;33m\u001b[0m\u001b[0m\n\u001b[1;32m----> 2\u001b[1;33m stats.f_oneway(CI_df2['logCI'][CI_df2['Group_crit']=='RS'],\n\u001b[0m\u001b[0;32m      3\u001b[0m                \u001b[0mCI_df2\u001b[0m\u001b[1;33m[\u001b[0m\u001b[1;34m'logCI'\u001b[0m\u001b[1;33m]\u001b[0m\u001b[1;33m[\u001b[0m\u001b[0mCI_df2\u001b[0m\u001b[1;33m[\u001b[0m\u001b[1;34m'Group_crit'\u001b[0m\u001b[1;33m]\u001b[0m\u001b[1;33m==\u001b[0m\u001b[1;34m'FS'\u001b[0m\u001b[1;33m]\u001b[0m\u001b[1;33m,\u001b[0m\u001b[1;33m\u001b[0m\u001b[1;33m\u001b[0m\u001b[0m\n\u001b[0;32m      4\u001b[0m                \u001b[0mCI_df2\u001b[0m\u001b[1;33m[\u001b[0m\u001b[1;34m'logCI'\u001b[0m\u001b[1;33m]\u001b[0m\u001b[1;33m[\u001b[0m\u001b[0mCI_df2\u001b[0m\u001b[1;33m[\u001b[0m\u001b[1;34m'Group_crit'\u001b[0m\u001b[1;33m]\u001b[0m\u001b[1;33m==\u001b[0m\u001b[1;34m'Burster_h'\u001b[0m\u001b[1;33m]\u001b[0m\u001b[1;33m,\u001b[0m\u001b[1;33m\u001b[0m\u001b[1;33m\u001b[0m\u001b[0m\n\u001b[0;32m      5\u001b[0m                CI_df2['logCI'][CI_df2['Group_crit']=='Burster_l'])\n",
      "\u001b[1;32m~\\anaconda3\\lib\\site-packages\\pandas\\core\\frame.py\u001b[0m in \u001b[0;36m__getitem__\u001b[1;34m(self, key)\u001b[0m\n\u001b[0;32m   2900\u001b[0m             \u001b[1;32mif\u001b[0m \u001b[0mself\u001b[0m\u001b[1;33m.\u001b[0m\u001b[0mcolumns\u001b[0m\u001b[1;33m.\u001b[0m\u001b[0mnlevels\u001b[0m \u001b[1;33m>\u001b[0m \u001b[1;36m1\u001b[0m\u001b[1;33m:\u001b[0m\u001b[1;33m\u001b[0m\u001b[1;33m\u001b[0m\u001b[0m\n\u001b[0;32m   2901\u001b[0m                 \u001b[1;32mreturn\u001b[0m \u001b[0mself\u001b[0m\u001b[1;33m.\u001b[0m\u001b[0m_getitem_multilevel\u001b[0m\u001b[1;33m(\u001b[0m\u001b[0mkey\u001b[0m\u001b[1;33m)\u001b[0m\u001b[1;33m\u001b[0m\u001b[1;33m\u001b[0m\u001b[0m\n\u001b[1;32m-> 2902\u001b[1;33m             \u001b[0mindexer\u001b[0m \u001b[1;33m=\u001b[0m \u001b[0mself\u001b[0m\u001b[1;33m.\u001b[0m\u001b[0mcolumns\u001b[0m\u001b[1;33m.\u001b[0m\u001b[0mget_loc\u001b[0m\u001b[1;33m(\u001b[0m\u001b[0mkey\u001b[0m\u001b[1;33m)\u001b[0m\u001b[1;33m\u001b[0m\u001b[1;33m\u001b[0m\u001b[0m\n\u001b[0m\u001b[0;32m   2903\u001b[0m             \u001b[1;32mif\u001b[0m \u001b[0mis_integer\u001b[0m\u001b[1;33m(\u001b[0m\u001b[0mindexer\u001b[0m\u001b[1;33m)\u001b[0m\u001b[1;33m:\u001b[0m\u001b[1;33m\u001b[0m\u001b[1;33m\u001b[0m\u001b[0m\n\u001b[0;32m   2904\u001b[0m                 \u001b[0mindexer\u001b[0m \u001b[1;33m=\u001b[0m \u001b[1;33m[\u001b[0m\u001b[0mindexer\u001b[0m\u001b[1;33m]\u001b[0m\u001b[1;33m\u001b[0m\u001b[1;33m\u001b[0m\u001b[0m\n",
      "\u001b[1;32m~\\anaconda3\\lib\\site-packages\\pandas\\core\\indexes\\base.py\u001b[0m in \u001b[0;36mget_loc\u001b[1;34m(self, key, method, tolerance)\u001b[0m\n\u001b[0;32m   2895\u001b[0m                 \u001b[1;32mreturn\u001b[0m \u001b[0mself\u001b[0m\u001b[1;33m.\u001b[0m\u001b[0m_engine\u001b[0m\u001b[1;33m.\u001b[0m\u001b[0mget_loc\u001b[0m\u001b[1;33m(\u001b[0m\u001b[0mcasted_key\u001b[0m\u001b[1;33m)\u001b[0m\u001b[1;33m\u001b[0m\u001b[1;33m\u001b[0m\u001b[0m\n\u001b[0;32m   2896\u001b[0m             \u001b[1;32mexcept\u001b[0m \u001b[0mKeyError\u001b[0m \u001b[1;32mas\u001b[0m \u001b[0merr\u001b[0m\u001b[1;33m:\u001b[0m\u001b[1;33m\u001b[0m\u001b[1;33m\u001b[0m\u001b[0m\n\u001b[1;32m-> 2897\u001b[1;33m                 \u001b[1;32mraise\u001b[0m \u001b[0mKeyError\u001b[0m\u001b[1;33m(\u001b[0m\u001b[0mkey\u001b[0m\u001b[1;33m)\u001b[0m \u001b[1;32mfrom\u001b[0m \u001b[0merr\u001b[0m\u001b[1;33m\u001b[0m\u001b[1;33m\u001b[0m\u001b[0m\n\u001b[0m\u001b[0;32m   2898\u001b[0m \u001b[1;33m\u001b[0m\u001b[0m\n\u001b[0;32m   2899\u001b[0m         \u001b[1;32mif\u001b[0m \u001b[0mtolerance\u001b[0m \u001b[1;32mis\u001b[0m \u001b[1;32mnot\u001b[0m \u001b[1;32mNone\u001b[0m\u001b[1;33m:\u001b[0m\u001b[1;33m\u001b[0m\u001b[1;33m\u001b[0m\u001b[0m\n",
      "\u001b[1;31mKeyError\u001b[0m: 'logCI'"
     ]
    }
   ],
   "source": [
    "# Rerun ANOVA on log(CI)\n",
    "stats.f_oneway(CI_df2['logCI'][CI_df2['Group_crit']=='RS'],\n",
    "               CI_df2['logCI'][CI_df2['Group_crit']=='FS'],\n",
    "               CI_df2['logCI'][CI_df2['Group_crit']=='Burster_h'],\n",
    "               CI_df2['logCI'][CI_df2['Group_crit']=='Burster_l'])"
   ]
  },
  {
   "cell_type": "code",
   "execution_count": 18,
   "metadata": {},
   "outputs": [
    {
     "data": {
      "text/html": [
       "<div>\n",
       "<style scoped>\n",
       "    .dataframe tbody tr th:only-of-type {\n",
       "        vertical-align: middle;\n",
       "    }\n",
       "\n",
       "    .dataframe tbody tr th {\n",
       "        vertical-align: top;\n",
       "    }\n",
       "\n",
       "    .dataframe thead th {\n",
       "        text-align: right;\n",
       "    }\n",
       "</style>\n",
       "<table border=\"1\" class=\"dataframe\">\n",
       "  <thead>\n",
       "    <tr style=\"text-align: right;\">\n",
       "      <th></th>\n",
       "      <th>Source</th>\n",
       "      <th>ddof1</th>\n",
       "      <th>ddof2</th>\n",
       "      <th>F</th>\n",
       "      <th>p-unc</th>\n",
       "      <th>np2</th>\n",
       "    </tr>\n",
       "  </thead>\n",
       "  <tbody>\n",
       "    <tr>\n",
       "      <th>0</th>\n",
       "      <td>Group_crit</td>\n",
       "      <td>3</td>\n",
       "      <td>48.87127</td>\n",
       "      <td>12.528097</td>\n",
       "      <td>0.000003</td>\n",
       "      <td>0.341943</td>\n",
       "    </tr>\n",
       "  </tbody>\n",
       "</table>\n",
       "</div>"
      ],
      "text/plain": [
       "       Source  ddof1     ddof2          F     p-unc       np2\n",
       "0  Group_crit      3  48.87127  12.528097  0.000003  0.341943"
      ]
     },
     "execution_count": 18,
     "metadata": {},
     "output_type": "execute_result"
    }
   ],
   "source": [
    "# Welch's ANOVA is more robust to unequal variances\n",
    "pg.welch_anova(dv = 'CI', between = 'Group_crit', data = CI_df3)"
   ]
  },
  {
   "cell_type": "code",
   "execution_count": 19,
   "metadata": {},
   "outputs": [
    {
     "data": {
      "text/html": [
       "<div>\n",
       "<style scoped>\n",
       "    .dataframe tbody tr th:only-of-type {\n",
       "        vertical-align: middle;\n",
       "    }\n",
       "\n",
       "    .dataframe tbody tr th {\n",
       "        vertical-align: top;\n",
       "    }\n",
       "\n",
       "    .dataframe thead th {\n",
       "        text-align: right;\n",
       "    }\n",
       "</style>\n",
       "<table border=\"1\" class=\"dataframe\">\n",
       "  <thead>\n",
       "    <tr style=\"text-align: right;\">\n",
       "      <th></th>\n",
       "      <th>A</th>\n",
       "      <th>B</th>\n",
       "      <th>mean(A)</th>\n",
       "      <th>mean(B)</th>\n",
       "      <th>diff</th>\n",
       "      <th>se</th>\n",
       "      <th>T</th>\n",
       "      <th>df</th>\n",
       "      <th>pval</th>\n",
       "      <th>hedges</th>\n",
       "    </tr>\n",
       "  </thead>\n",
       "  <tbody>\n",
       "    <tr>\n",
       "      <th>0</th>\n",
       "      <td>Burster_h</td>\n",
       "      <td>Burster_l</td>\n",
       "      <td>57.650461</td>\n",
       "      <td>16.947021</td>\n",
       "      <td>40.703440</td>\n",
       "      <td>14.764514</td>\n",
       "      <td>2.756843</td>\n",
       "      <td>17.464812</td>\n",
       "      <td>0.058284</td>\n",
       "      <td>0.822878</td>\n",
       "    </tr>\n",
       "    <tr>\n",
       "      <th>1</th>\n",
       "      <td>Burster_h</td>\n",
       "      <td>FS</td>\n",
       "      <td>57.650461</td>\n",
       "      <td>3.692802</td>\n",
       "      <td>53.957660</td>\n",
       "      <td>14.463754</td>\n",
       "      <td>3.730543</td>\n",
       "      <td>16.102844</td>\n",
       "      <td>0.008795</td>\n",
       "      <td>1.054901</td>\n",
       "    </tr>\n",
       "    <tr>\n",
       "      <th>2</th>\n",
       "      <td>Burster_h</td>\n",
       "      <td>RS</td>\n",
       "      <td>57.650461</td>\n",
       "      <td>8.680793</td>\n",
       "      <td>48.969668</td>\n",
       "      <td>14.488339</td>\n",
       "      <td>3.379937</td>\n",
       "      <td>16.212540</td>\n",
       "      <td>0.017781</td>\n",
       "      <td>0.890448</td>\n",
       "    </tr>\n",
       "    <tr>\n",
       "      <th>3</th>\n",
       "      <td>Burster_l</td>\n",
       "      <td>FS</td>\n",
       "      <td>16.947021</td>\n",
       "      <td>3.692802</td>\n",
       "      <td>13.254219</td>\n",
       "      <td>3.182726</td>\n",
       "      <td>4.164424</td>\n",
       "      <td>33.135487</td>\n",
       "      <td>0.001147</td>\n",
       "      <td>0.980151</td>\n",
       "    </tr>\n",
       "    <tr>\n",
       "      <th>4</th>\n",
       "      <td>Burster_l</td>\n",
       "      <td>RS</td>\n",
       "      <td>16.947021</td>\n",
       "      <td>8.680793</td>\n",
       "      <td>8.266228</td>\n",
       "      <td>3.292650</td>\n",
       "      <td>2.510509</td>\n",
       "      <td>37.812088</td>\n",
       "      <td>0.074499</td>\n",
       "      <td>0.528820</td>\n",
       "    </tr>\n",
       "    <tr>\n",
       "      <th>5</th>\n",
       "      <td>FS</td>\n",
       "      <td>RS</td>\n",
       "      <td>3.692802</td>\n",
       "      <td>8.680793</td>\n",
       "      <td>-4.987991</td>\n",
       "      <td>1.432081</td>\n",
       "      <td>-3.483037</td>\n",
       "      <td>126.989654</td>\n",
       "      <td>0.003760</td>\n",
       "      <td>-0.646684</td>\n",
       "    </tr>\n",
       "  </tbody>\n",
       "</table>\n",
       "</div>"
      ],
      "text/plain": [
       "           A          B    mean(A)    mean(B)       diff         se         T  \\\n",
       "0  Burster_h  Burster_l  57.650461  16.947021  40.703440  14.764514  2.756843   \n",
       "1  Burster_h         FS  57.650461   3.692802  53.957660  14.463754  3.730543   \n",
       "2  Burster_h         RS  57.650461   8.680793  48.969668  14.488339  3.379937   \n",
       "3  Burster_l         FS  16.947021   3.692802  13.254219   3.182726  4.164424   \n",
       "4  Burster_l         RS  16.947021   8.680793   8.266228   3.292650  2.510509   \n",
       "5         FS         RS   3.692802   8.680793  -4.987991   1.432081 -3.483037   \n",
       "\n",
       "           df      pval    hedges  \n",
       "0   17.464812  0.058284  0.822878  \n",
       "1   16.102844  0.008795  1.054901  \n",
       "2   16.212540  0.017781  0.890448  \n",
       "3   33.135487  0.001147  0.980151  \n",
       "4   37.812088  0.074499  0.528820  \n",
       "5  126.989654  0.003760 -0.646684  "
      ]
     },
     "execution_count": 19,
     "metadata": {},
     "output_type": "execute_result"
    }
   ],
   "source": [
    "pg.pairwise_gameshowell(dv ='CI', between ='Group_crit', data = CI_df3)"
   ]
  },
  {
   "cell_type": "code",
   "execution_count": 20,
   "metadata": {},
   "outputs": [
    {
     "data": {
      "text/html": [
       "<table class=\"simpletable\">\n",
       "<caption>Multiple Comparison of Means - Tukey HSD, FWER=0.05</caption>\n",
       "<tr>\n",
       "   <th>group1</th>    <th>group2</th>   <th>meandiff</th>  <th>p-adj</th>  <th>lower</th>   <th>upper</th>  <th>reject</th>\n",
       "</tr>\n",
       "<tr>\n",
       "  <td>Burster_h</td> <td>Burster_l</td>  <td>-1.9571</td>  <td>0.001</td> <td>-3.1299</td> <td>-0.7842</td>  <td>True</td> \n",
       "</tr>\n",
       "<tr>\n",
       "  <td>Burster_h</td>    <td>FS</td>      <td>-4.0626</td>  <td>0.001</td> <td>-5.1695</td> <td>-2.9558</td>  <td>True</td> \n",
       "</tr>\n",
       "<tr>\n",
       "  <td>Burster_h</td>    <td>RS</td>      <td>-3.1443</td>  <td>0.001</td> <td>-4.1698</td> <td>-2.1188</td>  <td>True</td> \n",
       "</tr>\n",
       "<tr>\n",
       "  <td>Burster_l</td>    <td>FS</td>      <td>-2.1056</td>  <td>0.001</td> <td>-3.0246</td> <td>-1.1865</td>  <td>True</td> \n",
       "</tr>\n",
       "<tr>\n",
       "  <td>Burster_l</td>    <td>RS</td>      <td>-1.1873</td> <td>0.0013</td> <td>-2.0065</td> <td>-0.368</td>   <td>True</td> \n",
       "</tr>\n",
       "<tr>\n",
       "     <td>FS</td>        <td>RS</td>      <td>0.9183</td>  <td>0.0064</td> <td>0.1967</td>  <td>1.6399</td>   <td>True</td> \n",
       "</tr>\n",
       "</table>"
      ],
      "text/plain": [
       "<class 'statsmodels.iolib.table.SimpleTable'>"
      ]
     },
     "execution_count": 20,
     "metadata": {},
     "output_type": "execute_result"
    }
   ],
   "source": [
    "CI_df3 = CI_df2[CI_df2['Group_crit'].isin(['RS','FS','Burster_h','Burster_l'])]\n",
    "comp = mc.MultiComparison(CI_df3.logCI,CI_df3.Group_crit)\n",
    "post_hoc_res = comp.tukeyhsd()\n",
    "post_hoc_res.summary()"
   ]
  },
  {
   "cell_type": "code",
   "execution_count": 21,
   "metadata": {},
   "outputs": [
    {
     "data": {
      "text/html": [
       "<div>\n",
       "<style scoped>\n",
       "    .dataframe tbody tr th:only-of-type {\n",
       "        vertical-align: middle;\n",
       "    }\n",
       "\n",
       "    .dataframe tbody tr th {\n",
       "        vertical-align: top;\n",
       "    }\n",
       "\n",
       "    .dataframe thead th {\n",
       "        text-align: right;\n",
       "    }\n",
       "</style>\n",
       "<table border=\"1\" class=\"dataframe\">\n",
       "  <thead>\n",
       "    <tr style=\"text-align: right;\">\n",
       "      <th></th>\n",
       "      <th>A</th>\n",
       "      <th>B</th>\n",
       "      <th>mean(A)</th>\n",
       "      <th>mean(B)</th>\n",
       "      <th>diff</th>\n",
       "      <th>se</th>\n",
       "      <th>T</th>\n",
       "      <th>df</th>\n",
       "      <th>pval</th>\n",
       "      <th>hedges</th>\n",
       "    </tr>\n",
       "  </thead>\n",
       "  <tbody>\n",
       "    <tr>\n",
       "      <th>0</th>\n",
       "      <td>FS</td>\n",
       "      <td>Prestim burster1</td>\n",
       "      <td>3.692802</td>\n",
       "      <td>42.741099</td>\n",
       "      <td>-39.048297</td>\n",
       "      <td>11.376452</td>\n",
       "      <td>-3.432379</td>\n",
       "      <td>19.197881</td>\n",
       "      <td>0.013462</td>\n",
       "      <td>-0.917532</td>\n",
       "    </tr>\n",
       "    <tr>\n",
       "      <th>1</th>\n",
       "      <td>FS</td>\n",
       "      <td>Prestim burster2</td>\n",
       "      <td>3.692802</td>\n",
       "      <td>14.455750</td>\n",
       "      <td>-10.762949</td>\n",
       "      <td>2.587911</td>\n",
       "      <td>-4.158933</td>\n",
       "      <td>45.184862</td>\n",
       "      <td>0.001000</td>\n",
       "      <td>-0.917154</td>\n",
       "    </tr>\n",
       "    <tr>\n",
       "      <th>2</th>\n",
       "      <td>FS</td>\n",
       "      <td>RS</td>\n",
       "      <td>3.692802</td>\n",
       "      <td>8.680793</td>\n",
       "      <td>-4.987991</td>\n",
       "      <td>1.432081</td>\n",
       "      <td>-3.483037</td>\n",
       "      <td>126.989654</td>\n",
       "      <td>0.003760</td>\n",
       "      <td>-0.646684</td>\n",
       "    </tr>\n",
       "    <tr>\n",
       "      <th>3</th>\n",
       "      <td>Prestim burster1</td>\n",
       "      <td>Prestim burster2</td>\n",
       "      <td>42.741099</td>\n",
       "      <td>14.455750</td>\n",
       "      <td>28.285348</td>\n",
       "      <td>11.609560</td>\n",
       "      <td>2.436384</td>\n",
       "      <td>20.797245</td>\n",
       "      <td>0.100954</td>\n",
       "      <td>0.664004</td>\n",
       "    </tr>\n",
       "    <tr>\n",
       "      <th>4</th>\n",
       "      <td>Prestim burster1</td>\n",
       "      <td>RS</td>\n",
       "      <td>42.741099</td>\n",
       "      <td>8.680793</td>\n",
       "      <td>34.060306</td>\n",
       "      <td>11.407693</td>\n",
       "      <td>2.985731</td>\n",
       "      <td>19.409368</td>\n",
       "      <td>0.034592</td>\n",
       "      <td>0.735849</td>\n",
       "    </tr>\n",
       "    <tr>\n",
       "      <th>5</th>\n",
       "      <td>Prestim burster2</td>\n",
       "      <td>RS</td>\n",
       "      <td>14.455750</td>\n",
       "      <td>8.680793</td>\n",
       "      <td>5.774957</td>\n",
       "      <td>2.721964</td>\n",
       "      <td>2.121614</td>\n",
       "      <td>54.651693</td>\n",
       "      <td>0.159244</td>\n",
       "      <td>0.410726</td>\n",
       "    </tr>\n",
       "  </tbody>\n",
       "</table>\n",
       "</div>"
      ],
      "text/plain": [
       "                  A                 B    mean(A)    mean(B)       diff  \\\n",
       "0                FS  Prestim burster1   3.692802  42.741099 -39.048297   \n",
       "1                FS  Prestim burster2   3.692802  14.455750 -10.762949   \n",
       "2                FS                RS   3.692802   8.680793  -4.987991   \n",
       "3  Prestim burster1  Prestim burster2  42.741099  14.455750  28.285348   \n",
       "4  Prestim burster1                RS  42.741099   8.680793  34.060306   \n",
       "5  Prestim burster2                RS  14.455750   8.680793   5.774957   \n",
       "\n",
       "          se         T          df      pval    hedges  \n",
       "0  11.376452 -3.432379   19.197881  0.013462 -0.917532  \n",
       "1   2.587911 -4.158933   45.184862  0.001000 -0.917154  \n",
       "2   1.432081 -3.483037  126.989654  0.003760 -0.646684  \n",
       "3  11.609560  2.436384   20.797245  0.100954  0.664004  \n",
       "4  11.407693  2.985731   19.409368  0.034592  0.735849  \n",
       "5   2.721964  2.121614   54.651693  0.159244  0.410726  "
      ]
     },
     "execution_count": 21,
     "metadata": {},
     "output_type": "execute_result"
    }
   ],
   "source": [
    "# In case of very small p-values, the convention is to write it as p<0.001.\n",
    "CI_df4 = CI_df2[CI_df2['Group_crit'].isin(['RS','FS','Prestim burster1','Prestim burster2'])]\n",
    "pg.welch_anova(dv = 'CI', between = 'Group_crit', data = CI_df4)\n",
    "pg.pairwise_gameshowell(dv ='CI', between ='Group_crit', data = CI_df4)"
   ]
  },
  {
   "cell_type": "code",
   "execution_count": 22,
   "metadata": {},
   "outputs": [
    {
     "data": {
      "text/html": [
       "<div>\n",
       "<style scoped>\n",
       "    .dataframe tbody tr th:only-of-type {\n",
       "        vertical-align: middle;\n",
       "    }\n",
       "\n",
       "    .dataframe tbody tr th {\n",
       "        vertical-align: top;\n",
       "    }\n",
       "\n",
       "    .dataframe thead th {\n",
       "        text-align: right;\n",
       "    }\n",
       "</style>\n",
       "<table border=\"1\" class=\"dataframe\">\n",
       "  <thead>\n",
       "    <tr style=\"text-align: right;\">\n",
       "      <th></th>\n",
       "      <th>A</th>\n",
       "      <th>B</th>\n",
       "      <th>mean(A)</th>\n",
       "      <th>mean(B)</th>\n",
       "      <th>diff</th>\n",
       "      <th>se</th>\n",
       "      <th>T</th>\n",
       "      <th>df</th>\n",
       "      <th>pval</th>\n",
       "      <th>hedges</th>\n",
       "    </tr>\n",
       "  </thead>\n",
       "  <tbody>\n",
       "    <tr>\n",
       "      <th>0</th>\n",
       "      <td>Burster</td>\n",
       "      <td>FS</td>\n",
       "      <td>31.205755</td>\n",
       "      <td>3.157055</td>\n",
       "      <td>28.048700</td>\n",
       "      <td>5.528818</td>\n",
       "      <td>5.073182</td>\n",
       "      <td>53.254543</td>\n",
       "      <td>0.001</td>\n",
       "      <td>0.918926</td>\n",
       "    </tr>\n",
       "    <tr>\n",
       "      <th>1</th>\n",
       "      <td>Burster</td>\n",
       "      <td>RS</td>\n",
       "      <td>31.205755</td>\n",
       "      <td>8.603827</td>\n",
       "      <td>22.601928</td>\n",
       "      <td>5.647653</td>\n",
       "      <td>4.002004</td>\n",
       "      <td>57.906859</td>\n",
       "      <td>0.001</td>\n",
       "      <td>0.691074</td>\n",
       "    </tr>\n",
       "    <tr>\n",
       "      <th>2</th>\n",
       "      <td>FS</td>\n",
       "      <td>RS</td>\n",
       "      <td>3.157055</td>\n",
       "      <td>8.603827</td>\n",
       "      <td>-5.446772</td>\n",
       "      <td>1.214322</td>\n",
       "      <td>-4.485445</td>\n",
       "      <td>93.788385</td>\n",
       "      <td>0.001</td>\n",
       "      <td>-0.724287</td>\n",
       "    </tr>\n",
       "  </tbody>\n",
       "</table>\n",
       "</div>"
      ],
      "text/plain": [
       "         A   B    mean(A)   mean(B)       diff        se         T         df  \\\n",
       "0  Burster  FS  31.205755  3.157055  28.048700  5.528818  5.073182  53.254543   \n",
       "1  Burster  RS  31.205755  8.603827  22.601928  5.647653  4.002004  57.906859   \n",
       "2       FS  RS   3.157055  8.603827  -5.446772  1.214322 -4.485445  93.788385   \n",
       "\n",
       "    pval    hedges  \n",
       "0  0.001  0.918926  \n",
       "1  0.001  0.691074  \n",
       "2  0.001 -0.724287  "
      ]
     },
     "execution_count": 22,
     "metadata": {},
     "output_type": "execute_result"
    }
   ],
   "source": [
    "CI_df5 = CI_df2[CI_df2['Group_gmm'].isin(['RS','FS','Burster'])]\n",
    "pg.welch_anova(dv = 'CI', between = 'Group_gmm', data = CI_df5)\n",
    "pg.pairwise_gameshowell(dv ='CI', between ='Group_gmm', data = CI_df5)"
   ]
  },
  {
   "cell_type": "code",
   "execution_count": 23,
   "metadata": {},
   "outputs": [
    {
     "name": "stderr",
     "output_type": "stream",
     "text": [
      "C:\\Users\\Ping\\anaconda3\\lib\\site-packages\\pandas\\core\\indexing.py:1745: SettingWithCopyWarning: \n",
      "A value is trying to be set on a copy of a slice from a DataFrame.\n",
      "Try using .loc[row_indexer,col_indexer] = value instead\n",
      "\n",
      "See the caveats in the documentation: https://pandas.pydata.org/pandas-docs/stable/user_guide/indexing.html#returning-a-view-versus-a-copy\n",
      "  isetter(ilocs[0], value)\n"
     ]
    },
    {
     "data": {
      "text/plain": [
       "array(['RS', 'FS', 'Prestim burster'], dtype=object)"
      ]
     },
     "execution_count": 23,
     "metadata": {},
     "output_type": "execute_result"
    }
   ],
   "source": [
    "CI_df4.loc[:, 'Group_crit'] = CI_df4.Group_crit.replace(['Prestim burster1','Prestim burster2'],'Prestim burster')\n",
    "CI_df4.Group_crit.unique()\n"
   ]
  },
  {
   "cell_type": "code",
   "execution_count": 24,
   "metadata": {},
   "outputs": [
    {
     "data": {
      "text/html": [
       "<div>\n",
       "<style scoped>\n",
       "    .dataframe tbody tr th:only-of-type {\n",
       "        vertical-align: middle;\n",
       "    }\n",
       "\n",
       "    .dataframe tbody tr th {\n",
       "        vertical-align: top;\n",
       "    }\n",
       "\n",
       "    .dataframe thead th {\n",
       "        text-align: right;\n",
       "    }\n",
       "</style>\n",
       "<table border=\"1\" class=\"dataframe\">\n",
       "  <thead>\n",
       "    <tr style=\"text-align: right;\">\n",
       "      <th></th>\n",
       "      <th>A</th>\n",
       "      <th>B</th>\n",
       "      <th>mean(A)</th>\n",
       "      <th>mean(B)</th>\n",
       "      <th>diff</th>\n",
       "      <th>se</th>\n",
       "      <th>T</th>\n",
       "      <th>df</th>\n",
       "      <th>pval</th>\n",
       "      <th>hedges</th>\n",
       "    </tr>\n",
       "  </thead>\n",
       "  <tbody>\n",
       "    <tr>\n",
       "      <th>0</th>\n",
       "      <td>FS</td>\n",
       "      <td>Prestim burster</td>\n",
       "      <td>3.692802</td>\n",
       "      <td>24.209319</td>\n",
       "      <td>-20.516517</td>\n",
       "      <td>4.604721</td>\n",
       "      <td>-4.455540</td>\n",
       "      <td>60.690106</td>\n",
       "      <td>0.001000</td>\n",
       "      <td>-0.889819</td>\n",
       "    </tr>\n",
       "    <tr>\n",
       "      <th>1</th>\n",
       "      <td>FS</td>\n",
       "      <td>RS</td>\n",
       "      <td>3.692802</td>\n",
       "      <td>8.680793</td>\n",
       "      <td>-4.987991</td>\n",
       "      <td>1.432081</td>\n",
       "      <td>-3.483037</td>\n",
       "      <td>126.989654</td>\n",
       "      <td>0.001958</td>\n",
       "      <td>-0.646684</td>\n",
       "    </tr>\n",
       "    <tr>\n",
       "      <th>2</th>\n",
       "      <td>Prestim burster</td>\n",
       "      <td>RS</td>\n",
       "      <td>24.209319</td>\n",
       "      <td>8.680793</td>\n",
       "      <td>15.528526</td>\n",
       "      <td>4.681373</td>\n",
       "      <td>3.317088</td>\n",
       "      <td>64.730359</td>\n",
       "      <td>0.004209</td>\n",
       "      <td>0.560623</td>\n",
       "    </tr>\n",
       "  </tbody>\n",
       "</table>\n",
       "</div>"
      ],
      "text/plain": [
       "                 A                B    mean(A)    mean(B)       diff  \\\n",
       "0               FS  Prestim burster   3.692802  24.209319 -20.516517   \n",
       "1               FS               RS   3.692802   8.680793  -4.987991   \n",
       "2  Prestim burster               RS  24.209319   8.680793  15.528526   \n",
       "\n",
       "         se         T          df      pval    hedges  \n",
       "0  4.604721 -4.455540   60.690106  0.001000 -0.889819  \n",
       "1  1.432081 -3.483037  126.989654  0.001958 -0.646684  \n",
       "2  4.681373  3.317088   64.730359  0.004209  0.560623  "
      ]
     },
     "execution_count": 24,
     "metadata": {},
     "output_type": "execute_result"
    }
   ],
   "source": [
    "pg.welch_anova(dv = 'CI', between = 'Group_crit', data = CI_df4)\n",
    "pg.pairwise_gameshowell(dv ='CI', between ='Group_crit', data = CI_df4)"
   ]
  },
  {
   "cell_type": "code",
   "execution_count": 25,
   "metadata": {},
   "outputs": [
    {
     "data": {
      "text/plain": [
       "<bound method NDFrame.head of                Group_crit     Group_gmm  Adaptindex\n",
       "3     Insufficient spikes  Unclassified   -1.000000\n",
       "6                      RS            RS    0.261538\n",
       "11           Unclassified            FS    0.261538\n",
       "15                     RS            RS    0.250000\n",
       "16              Burster_l       Burster    0.250000\n",
       "...                   ...           ...         ...\n",
       "1043         Unclassified  Unclassified    1.000000\n",
       "1045  Insufficient spikes  Unclassified    1.000000\n",
       "1046  Insufficient spikes  Unclassified    0.250000\n",
       "1051            Burster_h       Burster    1.000000\n",
       "1053            Burster_h       Burster    0.666667\n",
       "\n",
       "[392 rows x 3 columns]>"
      ]
     },
     "execution_count": 25,
     "metadata": {},
     "output_type": "execute_result"
    }
   ],
   "source": [
    "AI_df = pd.read_csv(r'C:\\Users\\Ping\\Documents\\MATLAB\\Xblaster3_Chamber3_GIT\\XPL_code\\Paper_code_and_spreadsheets\\CSV\\adaptindex.csv')\n",
    "AI_df2 = AI_df.loc[AI_df['Adaptindex'].notna(),:]\n",
    "AI_df2.head"
   ]
  },
  {
   "cell_type": "code",
   "execution_count": 27,
   "metadata": {},
   "outputs": [
    {
     "data": {
      "text/plain": [
       "LeveneResult(statistic=4.336072191656655, pvalue=0.005246575853561317)"
      ]
     },
     "execution_count": 27,
     "metadata": {},
     "output_type": "execute_result"
    }
   ],
   "source": [
    "stats.levene(AI_df2['Adaptindex'][AI_df2['Group_crit']=='RS'],\n",
    "               AI_df2['Adaptindex'][AI_df2['Group_crit']=='FS'],\n",
    "               AI_df2['Adaptindex'][AI_df2['Group_crit']=='Burster_h'],\n",
    "               AI_df2['Adaptindex'][AI_df2['Group_crit']=='Burster_l'], center='median')"
   ]
  },
  {
   "cell_type": "code",
   "execution_count": 14,
   "metadata": {},
   "outputs": [
    {
     "data": {
      "text/html": [
       "<div>\n",
       "<style scoped>\n",
       "    .dataframe tbody tr th:only-of-type {\n",
       "        vertical-align: middle;\n",
       "    }\n",
       "\n",
       "    .dataframe tbody tr th {\n",
       "        vertical-align: top;\n",
       "    }\n",
       "\n",
       "    .dataframe thead th {\n",
       "        text-align: right;\n",
       "    }\n",
       "</style>\n",
       "<table border=\"1\" class=\"dataframe\">\n",
       "  <thead>\n",
       "    <tr style=\"text-align: right;\">\n",
       "      <th></th>\n",
       "      <th>Source</th>\n",
       "      <th>ddof1</th>\n",
       "      <th>ddof2</th>\n",
       "      <th>F</th>\n",
       "      <th>p-unc</th>\n",
       "      <th>np2</th>\n",
       "    </tr>\n",
       "  </thead>\n",
       "  <tbody>\n",
       "    <tr>\n",
       "      <th>0</th>\n",
       "      <td>Group_crit</td>\n",
       "      <td>3</td>\n",
       "      <td>76.636579</td>\n",
       "      <td>9.174567</td>\n",
       "      <td>0.000029</td>\n",
       "      <td>0.080373</td>\n",
       "    </tr>\n",
       "  </tbody>\n",
       "</table>\n",
       "</div>"
      ],
      "text/plain": [
       "       Source  ddof1      ddof2         F     p-unc       np2\n",
       "0  Group_crit      3  76.636579  9.174567  0.000029  0.080373"
      ]
     },
     "execution_count": 14,
     "metadata": {},
     "output_type": "execute_result"
    }
   ],
   "source": [
    "AI_df3 = AI_df2[AI_df2['Group_crit'].isin(['RS','FS','Burster_h','Burster_l'])]\n",
    "pg.welch_anova(dv = 'Adaptindex', between = 'Group_crit', data = AI_df3)\n"
   ]
  },
  {
   "cell_type": "code",
   "execution_count": 15,
   "metadata": {},
   "outputs": [
    {
     "data": {
      "text/html": [
       "<div>\n",
       "<style scoped>\n",
       "    .dataframe tbody tr th:only-of-type {\n",
       "        vertical-align: middle;\n",
       "    }\n",
       "\n",
       "    .dataframe tbody tr th {\n",
       "        vertical-align: top;\n",
       "    }\n",
       "\n",
       "    .dataframe thead th {\n",
       "        text-align: right;\n",
       "    }\n",
       "</style>\n",
       "<table border=\"1\" class=\"dataframe\">\n",
       "  <thead>\n",
       "    <tr style=\"text-align: right;\">\n",
       "      <th></th>\n",
       "      <th>A</th>\n",
       "      <th>B</th>\n",
       "      <th>mean(A)</th>\n",
       "      <th>mean(B)</th>\n",
       "      <th>diff</th>\n",
       "      <th>se</th>\n",
       "      <th>T</th>\n",
       "      <th>df</th>\n",
       "      <th>pval</th>\n",
       "      <th>hedges</th>\n",
       "    </tr>\n",
       "  </thead>\n",
       "  <tbody>\n",
       "    <tr>\n",
       "      <th>0</th>\n",
       "      <td>Burster_h</td>\n",
       "      <td>Burster_l</td>\n",
       "      <td>0.619390</td>\n",
       "      <td>0.463778</td>\n",
       "      <td>0.155612</td>\n",
       "      <td>0.110555</td>\n",
       "      <td>1.407554</td>\n",
       "      <td>38.761217</td>\n",
       "      <td>0.502179</td>\n",
       "      <td>0.361931</td>\n",
       "    </tr>\n",
       "    <tr>\n",
       "      <th>1</th>\n",
       "      <td>Burster_h</td>\n",
       "      <td>FS</td>\n",
       "      <td>0.619390</td>\n",
       "      <td>0.183987</td>\n",
       "      <td>0.435403</td>\n",
       "      <td>0.101282</td>\n",
       "      <td>4.298907</td>\n",
       "      <td>29.216737</td>\n",
       "      <td>0.001000</td>\n",
       "      <td>1.041951</td>\n",
       "    </tr>\n",
       "    <tr>\n",
       "      <th>2</th>\n",
       "      <td>Burster_h</td>\n",
       "      <td>RS</td>\n",
       "      <td>0.619390</td>\n",
       "      <td>0.277301</td>\n",
       "      <td>0.342089</td>\n",
       "      <td>0.101004</td>\n",
       "      <td>3.386886</td>\n",
       "      <td>29.063158</td>\n",
       "      <td>0.010422</td>\n",
       "      <td>0.771735</td>\n",
       "    </tr>\n",
       "    <tr>\n",
       "      <th>3</th>\n",
       "      <td>Burster_l</td>\n",
       "      <td>FS</td>\n",
       "      <td>0.463778</td>\n",
       "      <td>0.183987</td>\n",
       "      <td>0.279791</td>\n",
       "      <td>0.071954</td>\n",
       "      <td>3.888448</td>\n",
       "      <td>81.923511</td>\n",
       "      <td>0.001152</td>\n",
       "      <td>0.738026</td>\n",
       "    </tr>\n",
       "    <tr>\n",
       "      <th>4</th>\n",
       "      <td>Burster_l</td>\n",
       "      <td>RS</td>\n",
       "      <td>0.463778</td>\n",
       "      <td>0.277301</td>\n",
       "      <td>0.186477</td>\n",
       "      <td>0.071562</td>\n",
       "      <td>2.605801</td>\n",
       "      <td>85.536710</td>\n",
       "      <td>0.051856</td>\n",
       "      <td>0.443238</td>\n",
       "    </tr>\n",
       "    <tr>\n",
       "      <th>5</th>\n",
       "      <td>FS</td>\n",
       "      <td>RS</td>\n",
       "      <td>0.183987</td>\n",
       "      <td>0.277301</td>\n",
       "      <td>-0.093314</td>\n",
       "      <td>0.056186</td>\n",
       "      <td>-1.660823</td>\n",
       "      <td>183.822788</td>\n",
       "      <td>0.347886</td>\n",
       "      <td>-0.241134</td>\n",
       "    </tr>\n",
       "  </tbody>\n",
       "</table>\n",
       "</div>"
      ],
      "text/plain": [
       "           A          B   mean(A)   mean(B)      diff        se         T  \\\n",
       "0  Burster_h  Burster_l  0.619390  0.463778  0.155612  0.110555  1.407554   \n",
       "1  Burster_h         FS  0.619390  0.183987  0.435403  0.101282  4.298907   \n",
       "2  Burster_h         RS  0.619390  0.277301  0.342089  0.101004  3.386886   \n",
       "3  Burster_l         FS  0.463778  0.183987  0.279791  0.071954  3.888448   \n",
       "4  Burster_l         RS  0.463778  0.277301  0.186477  0.071562  2.605801   \n",
       "5         FS         RS  0.183987  0.277301 -0.093314  0.056186 -1.660823   \n",
       "\n",
       "           df      pval    hedges  \n",
       "0   38.761217  0.502179  0.361931  \n",
       "1   29.216737  0.001000  1.041951  \n",
       "2   29.063158  0.010422  0.771735  \n",
       "3   81.923511  0.001152  0.738026  \n",
       "4   85.536710  0.051856  0.443238  \n",
       "5  183.822788  0.347886 -0.241134  "
      ]
     },
     "execution_count": 15,
     "metadata": {},
     "output_type": "execute_result"
    }
   ],
   "source": [
    "pg.pairwise_gameshowell(dv ='Adaptindex', between ='Group_crit', data = AI_df3)"
   ]
  },
  {
   "cell_type": "code",
   "execution_count": 35,
   "metadata": {},
   "outputs": [
    {
     "data": {
      "text/plain": [
       "LeveneResult(statistic=4.192113017690524, pvalue=0.006897514614816967)"
      ]
     },
     "execution_count": 35,
     "metadata": {},
     "output_type": "execute_result"
    }
   ],
   "source": [
    "maxVS_df = pd.read_csv(r'C:\\Users\\Ping\\Documents\\MATLAB\\Xblaster3_Chamber3_GIT\\XPL_code\\Paper_code_and_spreadsheets\\CSV\\maxVS.csv')\n",
    "maxVS_df2 = maxVS_df.loc[maxVS_df['maxVS'].notna(),:]\n",
    "stats.levene(maxVS_df2['maxVS'][maxVS_df2['Group_crit']=='RS'],\n",
    "               maxVS_df2['maxVS'][maxVS_df2['Group_crit']=='FS'],\n",
    "               maxVS_df2['maxVS'][maxVS_df2['Group_crit']=='Burster_h'],\n",
    "               maxVS_df2['maxVS'][maxVS_df2['Group_crit']=='Burster_l'], center='median')"
   ]
  },
  {
   "cell_type": "code",
   "execution_count": 36,
   "metadata": {},
   "outputs": [
    {
     "data": {
      "text/html": [
       "<div>\n",
       "<style scoped>\n",
       "    .dataframe tbody tr th:only-of-type {\n",
       "        vertical-align: middle;\n",
       "    }\n",
       "\n",
       "    .dataframe tbody tr th {\n",
       "        vertical-align: top;\n",
       "    }\n",
       "\n",
       "    .dataframe thead th {\n",
       "        text-align: right;\n",
       "    }\n",
       "</style>\n",
       "<table border=\"1\" class=\"dataframe\">\n",
       "  <thead>\n",
       "    <tr style=\"text-align: right;\">\n",
       "      <th></th>\n",
       "      <th>Source</th>\n",
       "      <th>ddof1</th>\n",
       "      <th>ddof2</th>\n",
       "      <th>F</th>\n",
       "      <th>p-unc</th>\n",
       "      <th>np2</th>\n",
       "    </tr>\n",
       "  </thead>\n",
       "  <tbody>\n",
       "    <tr>\n",
       "      <th>0</th>\n",
       "      <td>Group_crit</td>\n",
       "      <td>3</td>\n",
       "      <td>41.964732</td>\n",
       "      <td>11.264256</td>\n",
       "      <td>0.000015</td>\n",
       "      <td>0.15105</td>\n",
       "    </tr>\n",
       "  </tbody>\n",
       "</table>\n",
       "</div>"
      ],
      "text/plain": [
       "       Source  ddof1      ddof2          F     p-unc      np2\n",
       "0  Group_crit      3  41.964732  11.264256  0.000015  0.15105"
      ]
     },
     "execution_count": 36,
     "metadata": {},
     "output_type": "execute_result"
    }
   ],
   "source": [
    "maxVS_df3 = maxVS_df2[maxVS_df2['Group_crit'].isin(['RS','FS','Burster_h','Burster_l'])]\n",
    "pg.welch_anova(dv = 'maxVS', between = 'Group_crit', data = maxVS_df3)"
   ]
  },
  {
   "cell_type": "code",
   "execution_count": 37,
   "metadata": {},
   "outputs": [
    {
     "data": {
      "text/html": [
       "<div>\n",
       "<style scoped>\n",
       "    .dataframe tbody tr th:only-of-type {\n",
       "        vertical-align: middle;\n",
       "    }\n",
       "\n",
       "    .dataframe tbody tr th {\n",
       "        vertical-align: top;\n",
       "    }\n",
       "\n",
       "    .dataframe thead th {\n",
       "        text-align: right;\n",
       "    }\n",
       "</style>\n",
       "<table border=\"1\" class=\"dataframe\">\n",
       "  <thead>\n",
       "    <tr style=\"text-align: right;\">\n",
       "      <th></th>\n",
       "      <th>A</th>\n",
       "      <th>B</th>\n",
       "      <th>mean(A)</th>\n",
       "      <th>mean(B)</th>\n",
       "      <th>diff</th>\n",
       "      <th>se</th>\n",
       "      <th>T</th>\n",
       "      <th>df</th>\n",
       "      <th>pval</th>\n",
       "      <th>hedges</th>\n",
       "    </tr>\n",
       "  </thead>\n",
       "  <tbody>\n",
       "    <tr>\n",
       "      <th>0</th>\n",
       "      <td>Burster_h</td>\n",
       "      <td>Burster_l</td>\n",
       "      <td>0.811685</td>\n",
       "      <td>0.552860</td>\n",
       "      <td>0.258824</td>\n",
       "      <td>0.097977</td>\n",
       "      <td>2.641681</td>\n",
       "      <td>28.606327</td>\n",
       "      <td>0.060251</td>\n",
       "      <td>0.902963</td>\n",
       "    </tr>\n",
       "    <tr>\n",
       "      <th>1</th>\n",
       "      <td>Burster_h</td>\n",
       "      <td>FS</td>\n",
       "      <td>0.811685</td>\n",
       "      <td>0.367226</td>\n",
       "      <td>0.444459</td>\n",
       "      <td>0.079848</td>\n",
       "      <td>5.566292</td>\n",
       "      <td>17.178078</td>\n",
       "      <td>0.001000</td>\n",
       "      <td>1.721646</td>\n",
       "    </tr>\n",
       "    <tr>\n",
       "      <th>2</th>\n",
       "      <td>Burster_h</td>\n",
       "      <td>RS</td>\n",
       "      <td>0.811685</td>\n",
       "      <td>0.406349</td>\n",
       "      <td>0.405336</td>\n",
       "      <td>0.080853</td>\n",
       "      <td>5.013257</td>\n",
       "      <td>18.108575</td>\n",
       "      <td>0.001000</td>\n",
       "      <td>1.483394</td>\n",
       "    </tr>\n",
       "    <tr>\n",
       "      <th>3</th>\n",
       "      <td>Burster_l</td>\n",
       "      <td>FS</td>\n",
       "      <td>0.552860</td>\n",
       "      <td>0.367226</td>\n",
       "      <td>0.185634</td>\n",
       "      <td>0.073310</td>\n",
       "      <td>2.532198</td>\n",
       "      <td>31.907384</td>\n",
       "      <td>0.073952</td>\n",
       "      <td>0.646777</td>\n",
       "    </tr>\n",
       "    <tr>\n",
       "      <th>4</th>\n",
       "      <td>Burster_l</td>\n",
       "      <td>RS</td>\n",
       "      <td>0.552860</td>\n",
       "      <td>0.406349</td>\n",
       "      <td>0.146512</td>\n",
       "      <td>0.074402</td>\n",
       "      <td>1.969176</td>\n",
       "      <td>34.097200</td>\n",
       "      <td>0.219585</td>\n",
       "      <td>0.468756</td>\n",
       "    </tr>\n",
       "    <tr>\n",
       "      <th>5</th>\n",
       "      <td>FS</td>\n",
       "      <td>RS</td>\n",
       "      <td>0.367226</td>\n",
       "      <td>0.406349</td>\n",
       "      <td>-0.039123</td>\n",
       "      <td>0.048083</td>\n",
       "      <td>-0.813658</td>\n",
       "      <td>122.074421</td>\n",
       "      <td>0.828905</td>\n",
       "      <td>-0.147662</td>\n",
       "    </tr>\n",
       "  </tbody>\n",
       "</table>\n",
       "</div>"
      ],
      "text/plain": [
       "           A          B   mean(A)   mean(B)      diff        se         T  \\\n",
       "0  Burster_h  Burster_l  0.811685  0.552860  0.258824  0.097977  2.641681   \n",
       "1  Burster_h         FS  0.811685  0.367226  0.444459  0.079848  5.566292   \n",
       "2  Burster_h         RS  0.811685  0.406349  0.405336  0.080853  5.013257   \n",
       "3  Burster_l         FS  0.552860  0.367226  0.185634  0.073310  2.532198   \n",
       "4  Burster_l         RS  0.552860  0.406349  0.146512  0.074402  1.969176   \n",
       "5         FS         RS  0.367226  0.406349 -0.039123  0.048083 -0.813658   \n",
       "\n",
       "           df      pval    hedges  \n",
       "0   28.606327  0.060251  0.902963  \n",
       "1   17.178078  0.001000  1.721646  \n",
       "2   18.108575  0.001000  1.483394  \n",
       "3   31.907384  0.073952  0.646777  \n",
       "4   34.097200  0.219585  0.468756  \n",
       "5  122.074421  0.828905 -0.147662  "
      ]
     },
     "execution_count": 37,
     "metadata": {},
     "output_type": "execute_result"
    }
   ],
   "source": [
    "pg.pairwise_gameshowell(dv ='maxVS', between ='Group_crit', data = maxVS_df3)"
   ]
  },
  {
   "cell_type": "code",
   "execution_count": 39,
   "metadata": {},
   "outputs": [
    {
     "data": {
      "text/plain": [
       "LeveneResult(statistic=5.848422036382487, pvalue=0.0009128789073850799)"
      ]
     },
     "execution_count": 39,
     "metadata": {},
     "output_type": "execute_result"
    }
   ],
   "source": [
    "maxsync_df = pd.read_csv(r'C:\\Users\\Ping\\Documents\\MATLAB\\Xblaster3_Chamber3_GIT\\XPL_code\\Paper_code_and_spreadsheets\\CSV\\maxsync.csv')\n",
    "maxsync_df2 = maxsync_df.loc[maxsync_df['msf'].notna(),:]\n",
    "stats.levene(maxsync_df2['msf'][maxsync_df2['Group_crit']=='RS'],\n",
    "               maxsync_df2['msf'][maxsync_df2['Group_crit']=='FS'],\n",
    "               maxsync_df2['msf'][maxsync_df2['Group_crit']=='Burster_h'],\n",
    "               maxsync_df2['msf'][maxsync_df2['Group_crit']=='Burster_l'], center='median')"
   ]
  },
  {
   "cell_type": "code",
   "execution_count": 25,
   "metadata": {},
   "outputs": [
    {
     "data": {
      "text/html": [
       "<div>\n",
       "<style scoped>\n",
       "    .dataframe tbody tr th:only-of-type {\n",
       "        vertical-align: middle;\n",
       "    }\n",
       "\n",
       "    .dataframe tbody tr th {\n",
       "        vertical-align: top;\n",
       "    }\n",
       "\n",
       "    .dataframe thead th {\n",
       "        text-align: right;\n",
       "    }\n",
       "</style>\n",
       "<table border=\"1\" class=\"dataframe\">\n",
       "  <thead>\n",
       "    <tr style=\"text-align: right;\">\n",
       "      <th></th>\n",
       "      <th>Source</th>\n",
       "      <th>ddof1</th>\n",
       "      <th>ddof2</th>\n",
       "      <th>F</th>\n",
       "      <th>p-unc</th>\n",
       "      <th>np2</th>\n",
       "    </tr>\n",
       "  </thead>\n",
       "  <tbody>\n",
       "    <tr>\n",
       "      <th>0</th>\n",
       "      <td>Group_crit</td>\n",
       "      <td>3</td>\n",
       "      <td>30.39362</td>\n",
       "      <td>7.821305</td>\n",
       "      <td>0.000518</td>\n",
       "      <td>0.175838</td>\n",
       "    </tr>\n",
       "  </tbody>\n",
       "</table>\n",
       "</div>"
      ],
      "text/plain": [
       "       Source  ddof1     ddof2         F     p-unc       np2\n",
       "0  Group_crit      3  30.39362  7.821305  0.000518  0.175838"
      ]
     },
     "execution_count": 25,
     "metadata": {},
     "output_type": "execute_result"
    }
   ],
   "source": [
    "maxsync_df3 = maxsync_df2[maxsync_df2['Group_crit'].isin(['RS','FS','Burster_h','Burster_l'])]\n",
    "pg.welch_anova(dv = 'msf', between = 'Group_crit', data = maxsync_df3)"
   ]
  },
  {
   "cell_type": "code",
   "execution_count": 26,
   "metadata": {},
   "outputs": [
    {
     "data": {
      "text/html": [
       "<div>\n",
       "<style scoped>\n",
       "    .dataframe tbody tr th:only-of-type {\n",
       "        vertical-align: middle;\n",
       "    }\n",
       "\n",
       "    .dataframe tbody tr th {\n",
       "        vertical-align: top;\n",
       "    }\n",
       "\n",
       "    .dataframe thead th {\n",
       "        text-align: right;\n",
       "    }\n",
       "</style>\n",
       "<table border=\"1\" class=\"dataframe\">\n",
       "  <thead>\n",
       "    <tr style=\"text-align: right;\">\n",
       "      <th></th>\n",
       "      <th>A</th>\n",
       "      <th>B</th>\n",
       "      <th>mean(A)</th>\n",
       "      <th>mean(B)</th>\n",
       "      <th>diff</th>\n",
       "      <th>se</th>\n",
       "      <th>T</th>\n",
       "      <th>df</th>\n",
       "      <th>pval</th>\n",
       "      <th>hedges</th>\n",
       "    </tr>\n",
       "  </thead>\n",
       "  <tbody>\n",
       "    <tr>\n",
       "      <th>0</th>\n",
       "      <td>Burster_h</td>\n",
       "      <td>Burster_l</td>\n",
       "      <td>84.741697</td>\n",
       "      <td>26.327531</td>\n",
       "      <td>58.414166</td>\n",
       "      <td>18.960162</td>\n",
       "      <td>3.080890</td>\n",
       "      <td>14.765816</td>\n",
       "      <td>0.034734</td>\n",
       "      <td>1.117148</td>\n",
       "    </tr>\n",
       "    <tr>\n",
       "      <th>1</th>\n",
       "      <td>Burster_h</td>\n",
       "      <td>FS</td>\n",
       "      <td>84.741697</td>\n",
       "      <td>55.801021</td>\n",
       "      <td>28.940676</td>\n",
       "      <td>21.677582</td>\n",
       "      <td>1.335051</td>\n",
       "      <td>23.776507</td>\n",
       "      <td>0.546203</td>\n",
       "      <td>0.433937</td>\n",
       "    </tr>\n",
       "    <tr>\n",
       "      <th>2</th>\n",
       "      <td>Burster_h</td>\n",
       "      <td>RS</td>\n",
       "      <td>84.741697</td>\n",
       "      <td>16.841055</td>\n",
       "      <td>67.900642</td>\n",
       "      <td>17.655476</td>\n",
       "      <td>3.845869</td>\n",
       "      <td>11.307598</td>\n",
       "      <td>0.011857</td>\n",
       "      <td>1.207768</td>\n",
       "    </tr>\n",
       "    <tr>\n",
       "      <th>3</th>\n",
       "      <td>Burster_l</td>\n",
       "      <td>FS</td>\n",
       "      <td>26.327531</td>\n",
       "      <td>55.801021</td>\n",
       "      <td>-29.473489</td>\n",
       "      <td>14.646615</td>\n",
       "      <td>-2.012307</td>\n",
       "      <td>53.884991</td>\n",
       "      <td>0.196268</td>\n",
       "      <td>-0.565552</td>\n",
       "    </tr>\n",
       "    <tr>\n",
       "      <th>4</th>\n",
       "      <td>Burster_l</td>\n",
       "      <td>RS</td>\n",
       "      <td>26.327531</td>\n",
       "      <td>16.841055</td>\n",
       "      <td>9.486476</td>\n",
       "      <td>7.504772</td>\n",
       "      <td>1.264059</td>\n",
       "      <td>19.866578</td>\n",
       "      <td>0.587021</td>\n",
       "      <td>0.338239</td>\n",
       "    </tr>\n",
       "    <tr>\n",
       "      <th>5</th>\n",
       "      <td>FS</td>\n",
       "      <td>RS</td>\n",
       "      <td>55.801021</td>\n",
       "      <td>16.841055</td>\n",
       "      <td>38.959966</td>\n",
       "      <td>12.913227</td>\n",
       "      <td>3.017059</td>\n",
       "      <td>40.007112</td>\n",
       "      <td>0.022067</td>\n",
       "      <td>0.621958</td>\n",
       "    </tr>\n",
       "  </tbody>\n",
       "</table>\n",
       "</div>"
      ],
      "text/plain": [
       "           A          B    mean(A)    mean(B)       diff         se         T  \\\n",
       "0  Burster_h  Burster_l  84.741697  26.327531  58.414166  18.960162  3.080890   \n",
       "1  Burster_h         FS  84.741697  55.801021  28.940676  21.677582  1.335051   \n",
       "2  Burster_h         RS  84.741697  16.841055  67.900642  17.655476  3.845869   \n",
       "3  Burster_l         FS  26.327531  55.801021 -29.473489  14.646615 -2.012307   \n",
       "4  Burster_l         RS  26.327531  16.841055   9.486476   7.504772  1.264059   \n",
       "5         FS         RS  55.801021  16.841055  38.959966  12.913227  3.017059   \n",
       "\n",
       "          df      pval    hedges  \n",
       "0  14.765816  0.034734  1.117148  \n",
       "1  23.776507  0.546203  0.433937  \n",
       "2  11.307598  0.011857  1.207768  \n",
       "3  53.884991  0.196268 -0.565552  \n",
       "4  19.866578  0.587021  0.338239  \n",
       "5  40.007112  0.022067  0.621958  "
      ]
     },
     "execution_count": 26,
     "metadata": {},
     "output_type": "execute_result"
    }
   ],
   "source": [
    "pg.pairwise_gameshowell(dv ='msf', between ='Group_crit', data = maxsync_df3)"
   ]
  },
  {
   "cell_type": "code",
   "execution_count": null,
   "metadata": {},
   "outputs": [],
   "source": []
  }
 ],
 "metadata": {
  "kernelspec": {
   "display_name": "Python 3",
   "language": "python",
   "name": "python3"
  },
  "language_info": {
   "codemirror_mode": {
    "name": "ipython",
    "version": 3
   },
   "file_extension": ".py",
   "mimetype": "text/x-python",
   "name": "python",
   "nbconvert_exporter": "python",
   "pygments_lexer": "ipython3",
   "version": "3.8.5"
  }
 },
 "nbformat": 4,
 "nbformat_minor": 4
}
