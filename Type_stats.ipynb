{
 "cells": [
  {
   "cell_type": "code",
   "execution_count": 2,
   "metadata": {},
   "outputs": [
    {
     "data": {
      "text/plain": [
       "{'p_levene': 0.03655549218337195,\n",
       " 'p_welch': 0    0.000003\n",
       " Name: p-unc, dtype: float64,\n",
       " 'Games-Howell':            A          B      pval\n",
       " 0  Burster_h  Burster_l  0.058284\n",
       " 1  Burster_h         FS  0.008795\n",
       " 2  Burster_h         RS  0.017781\n",
       " 3  Burster_l         FS  0.001147\n",
       " 4  Burster_l         RS  0.074499\n",
       " 5         FS         RS  0.003760}"
      ]
     },
     "execution_count": 2,
     "metadata": {},
     "output_type": "execute_result"
    },
    {
     "data": {
      "image/png": "[encoded data removed]",
      "text/plain": [
       "<Figure size 432x288 with 4 Axes>"
      ]
     },
     "metadata": {
      "needs_background": "light"
     },
     "output_type": "display_data"
    }
   ],
   "source": [
    "import os\n",
    "import numpy as np\n",
    "import pandas as pd\n",
    "import scipy.stats as stats\n",
    "import statsmodels.stats.multicomp as mc\n",
    "import matplotlib.pyplot as plt\n",
    "import pingouin as pg\n",
    "\n",
    "path = 'C:/Users/Ping/Documents/MATLAB/Xblaster3_Chamber3_GIT/XPL_code/Paper_code_and_spreadsheets/CSV'\n",
    "os.chdir(path)\n",
    "\n",
    "def group_comp (filename,grouptype,paramname):\n",
    "    df = pd.read_csv(filename+'.csv')\n",
    "    df = df.loc[df[paramname].notna(),:]\n",
    "    #print(df.columns)\n",
    "    summary = dict()\n",
    "    \n",
    "    switcher = {\n",
    "        'crit': ['RS','FS','Burster_h','Burster_l'],\n",
    "        'gmm' : ['RS','FS','Burster']\n",
    "    }\n",
    "    \n",
    "    groupnames = switcher.get(grouptype)\n",
    "    #print(groupnames)\n",
    "    \n",
    "    if groupnames==None:\n",
    "        raise Exception('Group type must be \\'crit\\' or \\'gmm\\' ')\n",
    "    \n",
    "    key = 'Group_'+grouptype\n",
    "    df = df.loc[df[key].isin(groupnames),:]\n",
    "    #print(df['Group_'+grouptype].unique())    \n",
    "\n",
    "    df[paramname].hist(by=df[key])\n",
    "    \n",
    "    # All Levene's tests seemed to reject the null for equality of variances \n",
    "    # Check for equality of variances again after log transform - in the end still reject null\n",
    "    if ~np.any(df[paramname]==0):     # Cannot take log of zero\n",
    "        df.loc[:,'log'+paramname] = np.log2(df[paramname])\n",
    "        values_per_group = [col for col_name, col in df.groupby(key)['log'+paramname]]\n",
    "        stat, p_levene = stats.levene(*values_per_group)\n",
    "        summary['p_levene'] = p_levene\n",
    "    else:\n",
    "        p_levene = None     # e.g., log of zeros\n",
    "    \n",
    "    if (p_levene is None) or (p_levene < 0.05): \n",
    "        welch_df = pg.welch_anova(dv = paramname, between = key, data = df)\n",
    "        summary['p_welch'] = welch_df.get('p-unc')\n",
    "        #summary['p_welch'] = welch_df\n",
    "        \n",
    "        gh_df = pg.pairwise_gameshowell(dv = paramname, between = key, data = df)\n",
    "        summary['Games-Howell'] = gh_df.loc[:,['A','B','pval']] \n",
    "    else:\n",
    "        comp = mc.MultiComparison(df['log'+paramname],df[key])\n",
    "        res = comp.tukeyhsd()\n",
    "        temp = pd.DataFrame(data=res._results_table.data[1:], columns=res._results_table.data[0])\n",
    "        summary['Tukey'] = temp.loc[:,['group1','group2','p-adj']]   \n",
    "    \n",
    "    return summary\n",
    "    \n",
    "summary = group_comp('CImax', 'crit', 'CI')\n",
    "summary\n",
    "\n",
    "# Checked Welch's ANOVA against MATLAB\n"
   ]
  },
  {
   "cell_type": "code",
   "execution_count": 42,
   "metadata": {},
   "outputs": [
    {
     "data": {
      "text/plain": [
       "{'p_levene': 0.001437344549876343,\n",
       " 'p_welch': 0    1.154575e-08\n",
       " Name: p-unc, dtype: float64,\n",
       " 'Games-Howell':          A   B   pval\n",
       " 0  Burster  FS  0.001\n",
       " 1  Burster  RS  0.001\n",
       " 2       FS  RS  0.001}"
      ]
     },
     "execution_count": 42,
     "metadata": {},
     "output_type": "execute_result"
    },
    {
     "data": {
      "image/png": "[encoded data removed]",
      "text/plain": [
       "<Figure size 432x288 with 4 Axes>"
      ]
     },
     "metadata": {
      "needs_background": "light"
     },
     "output_type": "display_data"
    }
   ],
   "source": [
    "summary = group_comp('CImax', 'gmm', 'CI')\n",
    "summary"
   ]
  },
  {
   "cell_type": "code",
   "execution_count": 37,
   "metadata": {},
   "outputs": [
    {
     "data": {
      "text/plain": [
       "{'p_welch': 0    0.000029\n",
       " Name: p-unc, dtype: float64,\n",
       " 'Games-Howell':            A          B      pval\n",
       " 0  Burster_h  Burster_l  0.502179\n",
       " 1  Burster_h         FS  0.001000\n",
       " 2  Burster_h         RS  0.010422\n",
       " 3  Burster_l         FS  0.001152\n",
       " 4  Burster_l         RS  0.051856\n",
       " 5         FS         RS  0.347886}"
      ]
     },
     "execution_count": 37,
     "metadata": {},
     "output_type": "execute_result"
    },
    {
     "data": {
      "image/png": "[encoded data removed]",
      "text/plain": [
       "<Figure size 432x288 with 4 Axes>"
      ]
     },
     "metadata": {
      "needs_background": "light"
     },
     "output_type": "display_data"
    }
   ],
   "source": [
    "summary = group_comp('adaptindex','crit','Adaptindex')\n",
    "summary"
   ]
  },
  {
   "cell_type": "code",
   "execution_count": 38,
   "metadata": {},
   "outputs": [
    {
     "data": {
      "text/plain": [
       "{'p_welch': 0    0.000015\n",
       " Name: p-unc, dtype: float64,\n",
       " 'Games-Howell':            A          B      pval\n",
       " 0  Burster_h  Burster_l  0.060251\n",
       " 1  Burster_h         FS  0.001000\n",
       " 2  Burster_h         RS  0.001000\n",
       " 3  Burster_l         FS  0.073952\n",
       " 4  Burster_l         RS  0.219585\n",
       " 5         FS         RS  0.828905}"
      ]
     },
     "execution_count": 38,
     "metadata": {},
     "output_type": "execute_result"
    },
    {
     "data": {
      "image/png": "[encoded data removed]",
      "text/plain": [
       "<Figure size 432x288 with 4 Axes>"
      ]
     },
     "metadata": {
      "needs_background": "light"
     },
     "output_type": "display_data"
    }
   ],
   "source": [
    "summary = group_comp('maxVS','crit','maxVS')\n",
    "summary"
   ]
  },
  {
   "cell_type": "code",
   "execution_count": 39,
   "metadata": {},
   "outputs": [
    {
     "data": {
      "text/plain": [
       "{'p_levene': 0.03251247736951795,\n",
       " 'p_welch': 0    0.000518\n",
       " Name: p-unc, dtype: float64,\n",
       " 'Games-Howell':            A          B      pval\n",
       " 0  Burster_h  Burster_l  0.034734\n",
       " 1  Burster_h         FS  0.546203\n",
       " 2  Burster_h         RS  0.011857\n",
       " 3  Burster_l         FS  0.196268\n",
       " 4  Burster_l         RS  0.587021\n",
       " 5         FS         RS  0.022067}"
      ]
     },
     "execution_count": 39,
     "metadata": {},
     "output_type": "execute_result"
    },
    {
     "data": {
      "image/png": "[encoded data removed]",
      "text/plain": [
       "<Figure size 432x288 with 4 Axes>"
      ]
     },
     "metadata": {
      "needs_background": "light"
     },
     "output_type": "display_data"
    }
   ],
   "source": [
    "summary = group_comp('maxsync','crit','msf')\n",
    "summary"
   ]
  },
  {
   "cell_type": "code",
   "execution_count": 40,
   "metadata": {},
   "outputs": [
    {
     "data": {
      "text/plain": [
       "{'p_welch': 0    0.000002\n",
       " Name: p-unc, dtype: float64,\n",
       " 'Games-Howell':          A   B   pval\n",
       " 0  Burster  FS  0.001\n",
       " 1  Burster  RS  0.001\n",
       " 2       FS  RS  0.900}"
      ]
     },
     "execution_count": 40,
     "metadata": {},
     "output_type": "execute_result"
    },
    {
     "data": {
      "image/png": "[encoded data removed]",
      "text/plain": [
       "<Figure size 432x288 with 4 Axes>"
      ]
     },
     "metadata": {
      "needs_background": "light"
     },
     "output_type": "display_data"
    }
   ],
   "source": [
    "summary = group_comp('maxVS','gmm','maxVS')\n",
    "summary"
   ]
  },
  {
   "cell_type": "code",
   "execution_count": 41,
   "metadata": {},
   "outputs": [
    {
     "data": {
      "text/plain": [
       "{'p_levene': 0.03368015935069996,\n",
       " 'p_welch': 0    0.012474\n",
       " Name: p-unc, dtype: float64,\n",
       " 'Games-Howell':          A   B      pval\n",
       " 0  Burster  FS  0.721125\n",
       " 1  Burster  RS  0.079940\n",
       " 2       FS  RS  0.028907}"
      ]
     },
     "execution_count": 41,
     "metadata": {},
     "output_type": "execute_result"
    },
    {
     "data": {
      "image/png": "[encoded data removed]",
      "text/plain": [
       "<Figure size 432x288 with 4 Axes>"
      ]
     },
     "metadata": {
      "needs_background": "light"
     },
     "output_type": "display_data"
    }
   ],
   "source": [
    "summary = group_comp('maxsync','gmm','msf')\n",
    "summary"
   ]
  },
  {
   "cell_type": "code",
   "execution_count": null,
   "metadata": {},
   "outputs": [],
   "source": []
  }
 ],
 "metadata": {
  "kernelspec": {
   "display_name": "Python 3",
   "language": "python",
   "name": "python3"
  },
  "language_info": {
   "codemirror_mode": {
    "name": "ipython",
    "version": 3
   },
   "file_extension": ".py",
   "mimetype": "text/x-python",
   "name": "python",
   "nbconvert_exporter": "python",
   "pygments_lexer": "ipython3",
   "version": "3.8.5"
  }
 },
 "nbformat": 4,
 "nbformat_minor": 4
}
