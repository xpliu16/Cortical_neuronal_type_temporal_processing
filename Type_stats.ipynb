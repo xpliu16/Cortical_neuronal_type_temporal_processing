{
 "cells": [
  {
   "cell_type": "code",
   "execution_count": 13,
   "metadata": {},
   "outputs": [
    {
     "data": {
      "text/plain": [
       "{'p_levene': 0.03655549218337195,\n",
       " 'p_welch':        Source  ddof1     ddof2          F     p-unc       np2\n",
       " 0  Group_crit      3  48.87127  12.528097  0.000003  0.341943,\n",
       " 'Games-Howell':            A          B      pval\n",
       " 0  Burster_h  Burster_l  0.058284\n",
       " 1  Burster_h         FS  0.008795\n",
       " 2  Burster_h         RS  0.017781\n",
       " 3  Burster_l         FS  0.001147\n",
       " 4  Burster_l         RS  0.074499\n",
       " 5         FS         RS  0.003760}"
      ]
     },
     "execution_count": 13,
     "metadata": {},
     "output_type": "execute_result"
    },
    {
     "data": {
      "image/png": "[encoded data removed]",
      "text/plain": [
       "<Figure size 432x288 with 4 Axes>"
      ]
     },
     "metadata": {
      "needs_background": "light"
     },
     "output_type": "display_data"
    }
   ],
   "source": [
    "import os\n",
    "import numpy as np\n",
    "import pandas as pd\n",
    "import scipy.stats as stats\n",
    "import statsmodels.stats.multicomp as mc\n",
    "import matplotlib.pyplot as plt\n",
    "import pingouin as pg\n",
    "\n",
    "path = 'C:/Users/Ping/Desktop/AC_type_project/'\n",
    "os.chdir(path)\n",
    "\n",
    "def group_comp (filename,grouptype,paramname):\n",
    "    df = pd.read_csv(filename+'.csv')\n",
    "    df = df.loc[df[paramname].notna(),:]\n",
    "    #print(df.columns)\n",
    "    summary = dict()\n",
    "    \n",
    "    switcher = {\n",
    "        'crit': ['RS','FS','Burster_h','Burster_l'],\n",
    "        'gmm' : ['RS','FS','Burster']\n",
    "    }\n",
    "    \n",
    "    groupnames = switcher.get(grouptype)\n",
    "    #print(groupnames)\n",
    "    \n",
    "    if groupnames==None:\n",
    "        raise Exception('Group type must be \\'crit\\' or \\'gmm\\' ')\n",
    "    \n",
    "    key = 'Group_'+grouptype\n",
    "    df = df.loc[df[key].isin(groupnames),:]\n",
    "    #print(df['Group_'+grouptype].unique())    \n",
    "\n",
    "    df[paramname].hist(by=df[key])\n",
    "    \n",
    "    # All Levene's tests seemed to reject the null for equality of variances \n",
    "    # Check for equality of variances again after log transform - in the end still reject null\n",
    "    if ~np.any(df[paramname]==0):     # Cannot take log of zero\n",
    "        df.loc[:,'log'+paramname] = np.log2(df[paramname])\n",
    "        values_per_group = [col for col_name, col in df.groupby(key)['log'+paramname]]\n",
    "        stat, p_levene = stats.levene(*values_per_group)\n",
    "        summary['p_levene'] = p_levene\n",
    "    else:\n",
    "        p_levene = None     # e.g., log of zeros\n",
    "    \n",
    "    if (p_levene is None) or (p_levene < 0.05): \n",
    "        welch_df = pg.welch_anova(dv = paramname, between = key, data = df)\n",
    "        #summary['p_welch'] = welch_df.get('p-unc')\n",
    "        summary['p_welch'] = welch_df\n",
    "        \n",
    "        gh_df = pg.pairwise_gameshowell(dv = paramname, between = key, data = df)\n",
    "        summary['Games-Howell'] = gh_df.loc[:,['A','B','pval']] \n",
    "    else:\n",
    "        comp = mc.MultiComparison(df['log'+paramname],df[key])\n",
    "        res = comp.tukeyhsd()\n",
    "        temp = pd.DataFrame(data=res._results_table.data[1:], columns=res._results_table.data[0])\n",
    "        summary['Tukey'] = temp.loc[:,['group1','group2','p-adj']]   \n",
    "    \n",
    "    return summary\n",
    "    \n",
    "summary = group_comp('CImax', 'crit', 'CI')\n",
    "summary\n",
    "\n",
    "# Checked Welch's ANOVA against MATLAB\n"
   ]
  },
  {
   "cell_type": "code",
   "execution_count": 12,
   "metadata": {},
   "outputs": [
    {
     "data": {
      "text/plain": [
       "{'p_levene': 0.001437344549876343,\n",
       " 'p_welch':       Source  ddof1      ddof2          F         p-unc       np2\n",
       " 0  Group_gmm      2  90.548258  22.516974  1.154575e-08  0.210745,\n",
       " 'Games-Howell':          A   B   pval\n",
       " 0  Burster  FS  0.001\n",
       " 1  Burster  RS  0.001\n",
       " 2       FS  RS  0.001}"
      ]
     },
     "execution_count": 12,
     "metadata": {},
     "output_type": "execute_result"
    },
    {
     "data": {
      "image/png": "[encoded data removed]",
      "text/plain": [
       "<Figure size 432x288 with 4 Axes>"
      ]
     },
     "metadata": {
      "needs_background": "light"
     },
     "output_type": "display_data"
    }
   ],
   "source": [
    "summary = group_comp('CImax', 'gmm', 'CI')\n",
    "summary"
   ]
  },
  {
   "cell_type": "code",
   "execution_count": 9,
   "metadata": {},
   "outputs": [
    {
     "data": {
      "text/plain": [
       "{'p_welch':        Source  ddof1      ddof2         F     p-unc       np2\n",
       " 0  Group_crit      3  79.908559  8.484508  0.000058  0.074422,\n",
       " 'Games-Howell':            A          B      pval\n",
       " 0  Burster_h  Burster_l  0.477822\n",
       " 1  Burster_h         FS  0.001000\n",
       " 2  Burster_h         RS  0.009811\n",
       " 3  Burster_l         FS  0.003740\n",
       " 4  Burster_l         RS  0.101964\n",
       " 5         FS         RS  0.367406}"
      ]
     },
     "execution_count": 9,
     "metadata": {},
     "output_type": "execute_result"
    },
    {
     "data": {
      "image/png": "[encoded data removed]",
      "text/plain": [
       "<Figure size 432x288 with 4 Axes>"
      ]
     },
     "metadata": {
      "needs_background": "light"
     },
     "output_type": "display_data"
    }
   ],
   "source": [
    "summary = group_comp('adaptindex','crit','Adaptindex')\n",
    "summary"
   ]
  },
  {
   "cell_type": "code",
   "execution_count": 8,
   "metadata": {},
   "outputs": [
    {
     "data": {
      "text/plain": [
       "{'p_welch':        Source  ddof1      ddof2          F     p-unc       np2\n",
       " 0  Group_crit      3  44.431364  12.911078  0.000003  0.160633,\n",
       " 'Games-Howell':            A          B      pval\n",
       " 0  Burster_h  Burster_l  0.047508\n",
       " 1  Burster_h         FS  0.001000\n",
       " 2  Burster_h         RS  0.001000\n",
       " 3  Burster_l         FS  0.060044\n",
       " 4  Burster_l         RS  0.219585\n",
       " 5         FS         RS  0.747629}"
      ]
     },
     "execution_count": 8,
     "metadata": {},
     "output_type": "execute_result"
    },
    {
     "data": {
      "image/png": "[encoded data removed]",
      "text/plain": [
       "<Figure size 432x288 with 4 Axes>"
      ]
     },
     "metadata": {
      "needs_background": "light"
     },
     "output_type": "display_data"
    }
   ],
   "source": [
    "summary = group_comp('maxVS','crit','maxVS')\n",
    "summary"
   ]
  },
  {
   "cell_type": "code",
   "execution_count": 7,
   "metadata": {},
   "outputs": [
    {
     "data": {
      "text/plain": [
       "{'p_levene': 0.020829102552823678,\n",
       " 'p_welch':        Source  ddof1      ddof2         F     p-unc       np2\n",
       " 0  Group_crit      3  31.736907  8.207693  0.000348  0.177756,\n",
       " 'Games-Howell':            A          B      pval\n",
       " 0  Burster_h  Burster_l  0.027740\n",
       " 1  Burster_h         FS  0.606516\n",
       " 2  Burster_h         RS  0.007966\n",
       " 3  Burster_l         FS  0.183005\n",
       " 4  Burster_l         RS  0.587021\n",
       " 5         FS         RS  0.021445}"
      ]
     },
     "execution_count": 7,
     "metadata": {},
     "output_type": "execute_result"
    },
    {
     "data": {
      "image/png": "[encoded data removed]",
      "text/plain": [
       "<Figure size 432x288 with 4 Axes>"
      ]
     },
     "metadata": {
      "needs_background": "light"
     },
     "output_type": "display_data"
    }
   ],
   "source": [
    "summary = group_comp('maxsync','crit','msf')\n",
    "summary"
   ]
  },
  {
   "cell_type": "code",
   "execution_count": 10,
   "metadata": {},
   "outputs": [
    {
     "data": {
      "text/plain": [
       "{'p_welch':       Source  ddof1      ddof2          F     p-unc       np2\n",
       " 0  Group_gmm      2  96.532314  15.558761  0.000001  0.156819,\n",
       " 'Games-Howell':          A   B   pval\n",
       " 0  Burster  FS  0.001\n",
       " 1  Burster  RS  0.001\n",
       " 2       FS  RS  0.900}"
      ]
     },
     "execution_count": 10,
     "metadata": {},
     "output_type": "execute_result"
    },
    {
     "data": {
      "image/png": "[encoded data removed]",
      "text/plain": [
       "<Figure size 432x288 with 4 Axes>"
      ]
     },
     "metadata": {
      "needs_background": "light"
     },
     "output_type": "display_data"
    }
   ],
   "source": [
    "summary = group_comp('maxVS','gmm','maxVS')\n",
    "summary"
   ]
  },
  {
   "cell_type": "code",
   "execution_count": 11,
   "metadata": {},
   "outputs": [
    {
     "data": {
      "text/plain": [
       "{'p_levene': 0.035760432398969914,\n",
       " 'p_welch':       Source  ddof1      ddof2         F     p-unc       np2\n",
       " 0  Group_gmm      2  82.350782  4.322875  0.016397  0.045522,\n",
       " 'Games-Howell':          A   B      pval\n",
       " 0  Burster  FS  0.750670\n",
       " 1  Burster  RS  0.090760\n",
       " 2       FS  RS  0.035569}"
      ]
     },
     "execution_count": 11,
     "metadata": {},
     "output_type": "execute_result"
    },
    {
     "data": {
      "image/png": "[encoded data removed]",
      "text/plain": [
       "<Figure size 432x288 with 4 Axes>"
      ]
     },
     "metadata": {
      "needs_background": "light"
     },
     "output_type": "display_data"
    }
   ],
   "source": [
    "summary = group_comp('maxsync','gmm','msf')\n",
    "summary"
   ]
  },
  {
   "cell_type": "code",
   "execution_count": null,
   "metadata": {},
   "outputs": [],
   "source": []
  }
 ],
 "metadata": {
  "kernelspec": {
   "display_name": "Python 3",
   "language": "python",
   "name": "python3"
  },
  "language_info": {
   "codemirror_mode": {
    "name": "ipython",
    "version": 3
   },
   "file_extension": ".py",
   "mimetype": "text/x-python",
   "name": "python",
   "nbconvert_exporter": "python",
   "pygments_lexer": "ipython3",
   "version": "3.8.5"
  }
 },
 "nbformat": 4,
 "nbformat_minor": 4
}
